{
 "cells": [
  {
   "cell_type": "markdown",
   "metadata": {},
   "source": [
    "## Functions"
   ]
  },
  {
   "cell_type": "code",
   "execution_count": 1,
   "metadata": {},
   "outputs": [
    {
     "name": "stderr",
     "output_type": "stream",
     "text": [
      "Using TensorFlow backend.\n",
      "/home/chris/anaconda3/envs/AI4AVenv/lib/python3.6/site-packages/tensorflow/python/framework/dtypes.py:523: FutureWarning: Passing (type, 1) or '1type' as a synonym of type is deprecated; in a future version of numpy, it will be understood as (type, (1,)) / '(1,)type'.\n",
      "  _np_qint8 = np.dtype([(\"qint8\", np.int8, 1)])\n",
      "/home/chris/anaconda3/envs/AI4AVenv/lib/python3.6/site-packages/tensorflow/python/framework/dtypes.py:524: FutureWarning: Passing (type, 1) or '1type' as a synonym of type is deprecated; in a future version of numpy, it will be understood as (type, (1,)) / '(1,)type'.\n",
      "  _np_quint8 = np.dtype([(\"quint8\", np.uint8, 1)])\n",
      "/home/chris/anaconda3/envs/AI4AVenv/lib/python3.6/site-packages/tensorflow/python/framework/dtypes.py:525: FutureWarning: Passing (type, 1) or '1type' as a synonym of type is deprecated; in a future version of numpy, it will be understood as (type, (1,)) / '(1,)type'.\n",
      "  _np_qint16 = np.dtype([(\"qint16\", np.int16, 1)])\n",
      "/home/chris/anaconda3/envs/AI4AVenv/lib/python3.6/site-packages/tensorflow/python/framework/dtypes.py:526: FutureWarning: Passing (type, 1) or '1type' as a synonym of type is deprecated; in a future version of numpy, it will be understood as (type, (1,)) / '(1,)type'.\n",
      "  _np_quint16 = np.dtype([(\"quint16\", np.uint16, 1)])\n",
      "/home/chris/anaconda3/envs/AI4AVenv/lib/python3.6/site-packages/tensorflow/python/framework/dtypes.py:527: FutureWarning: Passing (type, 1) or '1type' as a synonym of type is deprecated; in a future version of numpy, it will be understood as (type, (1,)) / '(1,)type'.\n",
      "  _np_qint32 = np.dtype([(\"qint32\", np.int32, 1)])\n",
      "/home/chris/anaconda3/envs/AI4AVenv/lib/python3.6/site-packages/tensorflow/python/framework/dtypes.py:532: FutureWarning: Passing (type, 1) or '1type' as a synonym of type is deprecated; in a future version of numpy, it will be understood as (type, (1,)) / '(1,)type'.\n",
      "  np_resource = np.dtype([(\"resource\", np.ubyte, 1)])\n"
     ]
    }
   ],
   "source": [
    "# %matplotlib inline\n",
    "\n",
    "import numpy as np\n",
    "from skimage import transform, io, filters\n",
    "import skimage.util\n",
    "import os\n",
    "import glob\n",
    "from sklearn.neural_network import MLPRegressor\n",
    "from sklearn.model_selection import train_test_split\n",
    "from sklearn import metrics\n",
    "import pandas as pd\n",
    "from matplotlib import pyplot as plt\n",
    "import keras\n",
    "from keras.models import Sequential\n",
    "from keras.layers import Dense, Dropout, Flatten\n",
    "from keras.layers import Conv2D, MaxPooling2D\n",
    "from keras.layers import Input, BatchNormalization\n",
    "from keras import layers\n",
    "import tensorflow as tf\n",
    "import time\n",
    "from keras import backend as K\n",
    "# from tensorflow.keras import layers\n",
    "\n",
    "# Convert a Pandas dataframe to the x,y inputs that TensorFlow needs\n",
    "def to_xy(df, target):\n",
    "    result = []\n",
    "    for x in df.columns:\n",
    "        if x != target:\n",
    "            result.append(x)\n",
    "    # find out the type of the target column.  Is it really this hard? :(\n",
    "    target_type = df[target].dtypes\n",
    "    target_type = target_type[0] if hasattr(target_type, '__iter__') else target_type\n",
    "    # Encode to int for classification, float otherwise. TensorFlow likes 32 bits.\n",
    "    if target_type in (np.int64, np.int32):\n",
    "        # Classification\n",
    "        dummies = pd.get_dummies(df[target])\n",
    "        return df.as_matrix(result).astype(np.float32), dummies.as_matrix().astype(np.float32)\n",
    "    else:\n",
    "        # Regression\n",
    "        return df.as_matrix(result).astype(np.float32), df.as_matrix([target]).astype(np.float32)\n",
    "\n",
    "# Nicely formatted time string\n",
    "def hms_string(sec_elapsed):\n",
    "    h = int(sec_elapsed / (60 * 60))\n",
    "    m = int((sec_elapsed % (60 * 60)) / 60)\n",
    "    s = sec_elapsed % 60\n",
    "    return \"{}:{:>02}:{:>05.2f}\".format(h, m, s)\n",
    "\n",
    "\n",
    "def get_unet_model(img_size, num_classes):\n",
    "    inputs = keras.Input(shape=img_size + (3,))\n",
    "\n",
    "    ### [First half of the network: downsampling inputs] ###\n",
    "\n",
    "    # Entry block\n",
    "    x = layers.Conv2D(32, 3, strides=2, padding=\"same\")(inputs)\n",
    "    x = layers.BatchNormalization()(x)\n",
    "    x = layers.Activation(\"relu\")(x)\n",
    "\n",
    "    previous_block_activation = x  # Set aside residual\n",
    "\n",
    "    # Blocks 1, 2, 3 are identical apart from the feature depth.\n",
    "    for filters in [64, 128, 256]:\n",
    "        x = layers.Activation(\"relu\")(x)\n",
    "        x = layers.SeparableConv2D(filters, 3, padding=\"same\")(x)\n",
    "        x = layers.BatchNormalization()(x)\n",
    "\n",
    "        x = layers.Activation(\"relu\")(x)\n",
    "        x = layers.SeparableConv2D(filters, 3, padding=\"same\")(x)\n",
    "        x = layers.BatchNormalization()(x)\n",
    "\n",
    "        x = layers.MaxPooling2D(3, strides=2, padding=\"same\")(x)\n",
    "\n",
    "        # Project residual\n",
    "        residual = layers.Conv2D(filters, 1, strides=2, padding=\"same\")(\n",
    "            previous_block_activation\n",
    "        )\n",
    "        x = layers.add([x, residual])  # Add back residual\n",
    "        previous_block_activation = x  # Set aside next residual\n",
    "\n",
    "    ### [Second half of the network: upsampling inputs] ###\n",
    "\n",
    "    for filters in [256, 128, 64, 32]:\n",
    "        x = layers.Activation(\"relu\")(x)\n",
    "        x = layers.Conv2DTranspose(filters, 3, padding=\"same\")(x)\n",
    "        x = layers.BatchNormalization()(x)\n",
    "\n",
    "        x = layers.Activation(\"relu\")(x)\n",
    "        x = layers.Conv2DTranspose(filters, 3, padding=\"same\")(x)\n",
    "        x = layers.BatchNormalization()(x)\n",
    "\n",
    "        x = layers.UpSampling2D(2)(x)\n",
    "\n",
    "        # Project residual\n",
    "        residual = layers.UpSampling2D(2)(previous_block_activation)\n",
    "        residual = layers.Conv2D(filters, 1, padding=\"same\")(residual)\n",
    "        x = layers.add([x, residual])  # Add back residual\n",
    "        previous_block_activation = x  # Set aside next residual\n",
    "\n",
    "    # Add a per-pixel classification layer\n",
    "    outputs = layers.Conv2D(num_classes, 3, activation=\"softmax\", padding=\"same\")(x)\n",
    "\n",
    "    # Define the model\n",
    "    model = keras.Model(inputs, outputs)\n",
    "    return model\n",
    "\n",
    "def path_planning_model():\n",
    "    x = Input(shape=(None, None, 1))\n",
    "\n",
    "    net = Conv2D(filters=64, kernel_size=[3, 3], strides=[1, 1], padding=\"same\", kernel_initializer='orthogonal', activation='relu')(x)\n",
    "    net = BatchNormalization()(net)\n",
    "    for i in range(19):\n",
    "        net = Conv2D(filters=64, kernel_size=[3, 3], strides=[1, 1], padding=\"same\", kernel_initializer='orthogonal', activation='relu')(net)\n",
    "        net = BatchNormalization()(net)\n",
    "        \n",
    "    net = Conv2D(filters=1, kernel_size=[3, 3], strides=[1, 1], padding=\"same\", kernel_initializer='orthogonal', activation='sigmoid')(net)\n",
    "    net = BatchNormalization()(net)\n",
    "    # net = Conv2D(filters=1, kernel_size=[3, 3], strides=[1, 1], padding=\"same\", kernel_initializer='orthogonal', activation='sigmoid')(net)\n",
    "    # net = BatchNormalization()(net)\t\n",
    "    net = Dropout(0.10)(net)\n",
    "    # Define the model\n",
    "    model = keras.Model(inputs=x, outputs=net)\n",
    "    return model\n",
    "\n",
    "# Regression chart.\n",
    "def chart_regression(pred,y,sort=True):\n",
    "    t = pd.DataFrame({'pred' : pred.flatten(), 'y' : y.flatten()})\n",
    "    if sort:\n",
    "        t.sort_values(by=['y'],inplace=True)\n",
    "    b = plt.plot(t['pred'].tolist(),label='prediction',color = 'orange')\n",
    "    a = plt.plot(t['y'].tolist(),label='expected',color = 'blue')\n",
    "    plt.ylabel('output')\n",
    "    plt.legend()\n",
    "    plt.show()"
   ]
  },
  {
   "cell_type": "markdown",
   "metadata": {},
   "source": [
    "## Data"
   ]
  },
  {
   "cell_type": "code",
   "execution_count": 2,
   "metadata": {},
   "outputs": [],
   "source": [
    "# Base data directories\n",
    "root_dir = \"..\"\n",
    "data_dir = os.path.join(root_dir,\"data\")\n",
    "\n",
    "bugtrap_forest_dir = os.path.join(data_dir, \"bugtrap_forest\" )\n",
    "forest_dir = os.path.join(data_dir, \"forest\" )\n",
    "multiple_bugraps_dir = os.path.join(data_dir, \"multiple_bugtraps\" )\n",
    "shifting_gaps_dir = os.path.join(data_dir, \"shifting_gaps\" )"
   ]
  },
  {
   "cell_type": "markdown",
   "metadata": {},
   "source": [
    "## Mazes"
   ]
  },
  {
   "cell_type": "code",
   "execution_count": 3,
   "metadata": {},
   "outputs": [],
   "source": [
    "# Mazes\n",
    "mazes_dir = os.path.join(data_dir, \"mazes\" )\n",
    "mazes_train_csv_path = os.path.join(mazes_dir,\"mazes_train.csv\")\n",
    "mazes_test_csv_path = os.path.join(mazes_dir,\"mazes_test.csv\")\n",
    "mazes_valid_csv_path = os.path.join(mazes_dir,\"mazes_validation.csv\")\n",
    "mazes_train_data = pd.read_csv(mazes_train_csv_path)\n",
    "mazes_test_data = pd.read_csv(mazes_test_csv_path)\n",
    "mazes_valid_data = pd.read_csv(mazes_valid_csv_path)"
   ]
  },
  {
   "cell_type": "markdown",
   "metadata": {},
   "source": [
    "### Train Data"
   ]
  },
  {
   "cell_type": "code",
   "execution_count": 4,
   "metadata": {},
   "outputs": [
    {
     "name": "stdout",
     "output_type": "stream",
     "text": [
      "X_train_mazes\n",
      "# of images: 800\n",
      "3\n",
      "(800, 32, 32)\n",
      "y_train_mazes\n",
      "# of images: 800\n",
      "3\n",
      "(800, 32, 32)\n"
     ]
    }
   ],
   "source": [
    "# X - Map image file\n",
    "# Y - Path image file\n",
    "\n",
    "x_train_imgs = glob.glob(os.path.join(mazes_dir, \"train/*.png\"))\n",
    "x_imgs_train = []\n",
    "x_labels_train_mazes = []\n",
    "for img_path in x_train_imgs:\n",
    "    img = io.imread(img_path, as_gray=True)\n",
    "    x_imgs_train.append(img)\n",
    "    img_name = img_path.split('/')[-1]\n",
    "    img_name = img_name.split('.')[0]\n",
    "    x_labels_train_mazes.append(img_name)\n",
    "print(\"X_train_mazes\")\n",
    "print(f\"# of images: {len(x_imgs_train)}\")\n",
    "X_train_mazes = np.array(x_imgs_train, dtype='float32')\n",
    "X_train_mazes/=255\n",
    "print(f\"{X_train_mazes.ndim}\")\n",
    "print(f\"{X_train_mazes.shape}\")\n",
    "# print(f\"{X_train_mazes.dtype.names}\")\n",
    "# print(f\"{X_train_mazes[0]}\")\n",
    "\n",
    "y_train_imgs = glob.glob(os.path.join(mazes_dir, \"train_path/*.png\"))\n",
    "y_imgs_train = []\n",
    "y_labels_train_mazes = []\n",
    "for img_path in y_train_imgs:\n",
    "    img = io.imread(img_path, as_gray=True)\n",
    "    y_imgs_train.append(img)\n",
    "    img_name = img_path.split('/')[-1]\n",
    "    img_name = img_name.split('.')[0]\n",
    "    y_labels_train_mazes.append(img_name)\n",
    "print(\"y_train_mazes\")\n",
    "print(f\"# of images: {len(y_imgs_train)}\")\n",
    "y_train_mazes = np.array(y_imgs_train, dtype='float32')\n",
    "y_train_mazes/=255\n",
    "print(f\"{y_train_mazes.ndim}\")\n",
    "print(f\"{y_train_mazes.shape}\")\n",
    "# print(f\"{y_train_mazes.dtype.names}\")\n",
    "# print(f\"{y_train_mazes[0]}\")"
   ]
  },
  {
   "cell_type": "markdown",
   "metadata": {},
   "source": [
    "### Validation Data"
   ]
  },
  {
   "cell_type": "code",
   "execution_count": 5,
   "metadata": {},
   "outputs": [
    {
     "name": "stdout",
     "output_type": "stream",
     "text": [
      "X_valid_mazes\n",
      "# of images: 100\n",
      "3\n",
      "(100, 32, 32)\n",
      "y_valid_mazes\n",
      "# of images: 100\n",
      "3\n",
      "(100, 32, 32)\n"
     ]
    }
   ],
   "source": [
    "x_valid_imgs = glob.glob(os.path.join(mazes_dir, \"validation/*.png\"))\n",
    "x_imgs_valid = []\n",
    "x_labels_valid_mazes = []\n",
    "for img_path in x_valid_imgs:\n",
    "    img = io.imread(img_path, as_gray=True)\n",
    "    x_imgs_valid.append(img)\n",
    "    img_name = img_path.split('/')[-1]\n",
    "    img_name = img_name.split('.')[0]\n",
    "    x_labels_valid_mazes.append(img_name)\n",
    "print(\"X_valid_mazes\")\n",
    "print(f\"# of images: {len(x_imgs_valid)}\")\n",
    "X_valid_mazes = np.array(x_imgs_valid, dtype='float32')\n",
    "X_valid_mazes/=255\n",
    "print(f\"{X_valid_mazes.ndim}\")\n",
    "print(f\"{X_valid_mazes.shape}\")\n",
    "# print(f\"{X_valid_mazes.dtype.names}\")\n",
    "# print(f\"{X_valid_mazes[0]}\")\n",
    "\n",
    "y_valid_imgs = glob.glob(os.path.join(mazes_dir, \"validation_path/*.png\"))\n",
    "y_imgs_valid = []\n",
    "y_labels_valid_mazes = []\n",
    "for img_path in y_valid_imgs:\n",
    "    img = io.imread(img_path, as_gray=True)\n",
    "    y_imgs_valid.append(img)\n",
    "    img_name = img_path.split('/')[-1]\n",
    "    img_name = img_name.split('.')[0]\n",
    "    y_labels_valid_mazes.append(img_name)\n",
    "print(\"y_valid_mazes\")\n",
    "print(f\"# of images: {len(y_imgs_valid)}\")\n",
    "y_valid_mazes = np.array(y_imgs_valid, dtype='float32')\n",
    "y_valid_mazes/=255\n",
    "print(f\"{y_valid_mazes.ndim}\")\n",
    "print(f\"{y_valid_mazes.shape}\")\n",
    "# print(f\"{y_valid_mazes.dtype.names}\")\n",
    "# print(f\"{y_valid_mazes[0]}\")"
   ]
  },
  {
   "cell_type": "markdown",
   "metadata": {},
   "source": [
    "### Test Data"
   ]
  },
  {
   "cell_type": "code",
   "execution_count": 6,
   "metadata": {},
   "outputs": [
    {
     "name": "stdout",
     "output_type": "stream",
     "text": [
      "X_test_mazes\n",
      "# of images: 100\n",
      "3\n",
      "(100, 32, 32)\n",
      "y_test_mazes\n",
      "# of images: 100\n",
      "3\n",
      "(100, 32, 32)\n"
     ]
    }
   ],
   "source": [
    "x_test_imgs = glob.glob(os.path.join(mazes_dir, \"test/*.png\"))\n",
    "imgs_test = []\n",
    "x_labels_test_mazes = []\n",
    "for img_path in x_test_imgs:\n",
    "    img = io.imread(img_path, as_gray=True)\n",
    "    imgs_test.append(img)\n",
    "    img_name = img_path.split('/')[-1]\n",
    "    img_name = img_name.split('.')[0]\n",
    "    x_labels_test_mazes.append(img_name)\n",
    "print(\"X_test_mazes\")\n",
    "print(f\"# of images: {len(imgs_test)}\")\n",
    "X_test_mazes = np.array(imgs_test, dtype='float32')\n",
    "X_test_mazes/=255\n",
    "# X_test = np.array(imgs_test)\n",
    "print(f\"{X_test_mazes.ndim}\")\n",
    "print(f\"{X_test_mazes.shape}\")\n",
    "# print(f\"{X_test_mazes.dtype.names}\")\n",
    "# print(f\"{X_test_mazes[0]}\")\n",
    "\n",
    "y_test_imgs = glob.glob(os.path.join(mazes_dir, \"test_path/*.png\"))\n",
    "y_imgs_test = []\n",
    "y_labels_test_mazes = []\n",
    "for img_path in y_test_imgs:\n",
    "    img = io.imread(img_path, as_gray=True)\n",
    "    y_imgs_test.append(img)\n",
    "    img_name = img_path.split('/')[-1]\n",
    "    img_name = img_name.split('.')[0]\n",
    "    y_labels_test_mazes.append(img_name)\n",
    "print(\"y_test_mazes\")\n",
    "print(f\"# of images: {len(y_imgs_test)}\")\n",
    "y_test_mazes = np.array(y_imgs_test, dtype='float32')\n",
    "y_test_mazes/=255\n",
    "print(f\"{y_test_mazes.ndim}\")\n",
    "print(f\"{y_test_mazes.shape}\")\n",
    "# print(f\"{y_test_mazes.dtype.names}\")\n",
    "# print(f\"{y_test_mazes[0]}\")"
   ]
  },
  {
   "cell_type": "code",
   "execution_count": 7,
   "metadata": {},
   "outputs": [],
   "source": [
    "# input_shape = (32, 32, 1)\n",
    "img_rows, img_cols = 32, 32\n",
    "if K.image_data_format() == 'channels_first':\n",
    "    X_train_mazes = X_train_mazes.reshape(X_train_mazes.shape[0], 1, img_rows, img_cols)\n",
    "    X_valid_mazes = X_valid_mazes.reshape(X_valid_mazes.shape[0], 1, img_rows, img_cols)\n",
    "    X_test_mazes = X_test_mazes.reshape(X_test_mazes.shape[0], 1, img_rows, img_cols)\n",
    "    y_train_mazes = y_train_mazes.reshape(y_train_mazes.shape[0], 1, img_rows, img_cols)\n",
    "    y_valid_mazes = y_valid_mazes.reshape(y_valid_mazes.shape[0], 1, img_rows, img_cols)\n",
    "    y_test_mazes = y_test_mazes.reshape(y_test_mazes.shape[0], 1, img_rows, img_cols)\n",
    "    input_shape = (1, img_rows, img_cols)\n",
    "else:\n",
    "    X_train_mazes = X_train_mazes.reshape(X_train_mazes.shape[0], img_rows, img_cols, 1)\n",
    "    X_valid_mazes = X_valid_mazes.reshape(X_valid_mazes.shape[0], img_rows, img_cols, 1)\n",
    "    X_test_mazes = X_test_mazes.reshape(X_test_mazes.shape[0], img_rows, img_cols, 1)\n",
    "    y_train_mazes = y_train_mazes.reshape(y_train_mazes.shape[0], img_rows, img_cols, 1)\n",
    "    y_valid_mazes = y_valid_mazes.reshape(y_valid_mazes.shape[0], img_rows, img_cols, 1)\n",
    "    y_test_mazes = y_test_mazes.reshape(y_test_mazes.shape[0], img_rows, img_cols, 1)\n",
    "    input_shape = (img_rows, img_cols, 1)"
   ]
  },
  {
   "cell_type": "markdown",
   "metadata": {},
   "source": [
    "## Alternating Gaps"
   ]
  },
  {
   "cell_type": "code",
   "execution_count": 8,
   "metadata": {},
   "outputs": [],
   "source": [
    "# alternating_gaps\n",
    "alternating_gaps_dir = os.path.join(data_dir, \"alternating_gaps\" )\n",
    "alternating_gaps_train_csv_path = os.path.join(alternating_gaps_dir,\"alternating_gaps_train.csv\")\n",
    "alternating_gaps_test_csv_path = os.path.join(alternating_gaps_dir,\"alternating_gaps_test.csv\")\n",
    "alternating_gaps_valid_csv_path = os.path.join(alternating_gaps_dir,\"alternating_gaps_validation.csv\")\n",
    "alternating_gaps_train_data = pd.read_csv(alternating_gaps_train_csv_path)\n",
    "alternating_gaps_test_data = pd.read_csv(alternating_gaps_test_csv_path)\n",
    "alternating_gaps_valid_data = pd.read_csv(alternating_gaps_valid_csv_path)"
   ]
  },
  {
   "cell_type": "markdown",
   "metadata": {},
   "source": [
    "### Train Data"
   ]
  },
  {
   "cell_type": "code",
   "execution_count": 9,
   "metadata": {},
   "outputs": [
    {
     "name": "stdout",
     "output_type": "stream",
     "text": [
      "X_train_alternating_gaps\n",
      "# of images: 800\n",
      "3\n",
      "(800, 32, 32)\n",
      "y_train_alternating_gaps\n",
      "# of images: 800\n",
      "3\n",
      "(800, 32, 32)\n"
     ]
    }
   ],
   "source": [
    "# X - Map image file\n",
    "# Y - Path image file\n",
    "\n",
    "x_train_imgs = glob.glob(os.path.join(alternating_gaps_dir, \"train/*.png\"))\n",
    "x_imgs_train = []\n",
    "x_labels_train_alternating_gaps = []\n",
    "for img_path in x_train_imgs:\n",
    "    img = io.imread(img_path, as_gray=True)\n",
    "    x_imgs_train.append(img)\n",
    "    img_name = img_path.split('/')[-1]\n",
    "    img_name = img_name.split('.')[0]\n",
    "    x_labels_train_alternating_gaps.append(img_name)\n",
    "print(\"X_train_alternating_gaps\")\n",
    "print(f\"# of images: {len(x_imgs_train)}\")\n",
    "X_train_alternating_gaps = np.array(x_imgs_train, dtype='float32')\n",
    "X_train_alternating_gaps/=255\n",
    "print(f\"{X_train_alternating_gaps.ndim}\")\n",
    "print(f\"{X_train_alternating_gaps.shape}\")\n",
    "# print(f\"{X_train_alternating_gaps.dtype.names}\")\n",
    "# print(f\"{X_train_alternating_gaps[0]}\")\n",
    "\n",
    "y_train_imgs = glob.glob(os.path.join(alternating_gaps_dir, \"train_path/*.png\"))\n",
    "y_imgs_train = []\n",
    "y_labels_train_alternating_gaps = []\n",
    "for img_path in y_train_imgs:\n",
    "    img = io.imread(img_path, as_gray=True)\n",
    "    y_imgs_train.append(img)\n",
    "    img_name = img_path.split('/')[-1]\n",
    "    img_name = img_name.split('.')[0]\n",
    "    y_labels_train_alternating_gaps.append(img_name)\n",
    "print(\"y_train_alternating_gaps\")\n",
    "print(f\"# of images: {len(y_imgs_train)}\")\n",
    "y_train_alternating_gaps = np.array(y_imgs_train, dtype='float32')\n",
    "y_train_alternating_gaps/=255\n",
    "print(f\"{y_train_alternating_gaps.ndim}\")\n",
    "print(f\"{y_train_alternating_gaps.shape}\")\n",
    "# print(f\"{y_train_alternating_gaps.dtype.names}\")\n",
    "# print(f\"{y_train_alternating_gaps[0]}\")"
   ]
  },
  {
   "cell_type": "markdown",
   "metadata": {},
   "source": [
    "### Validation Data"
   ]
  },
  {
   "cell_type": "code",
   "execution_count": 10,
   "metadata": {},
   "outputs": [
    {
     "name": "stdout",
     "output_type": "stream",
     "text": [
      "X_valid_alternating_gaps\n",
      "# of images: 100\n",
      "3\n",
      "(100, 32, 32)\n",
      "y_valid_alternating_gaps\n",
      "# of images: 100\n",
      "3\n",
      "(100, 32, 32)\n"
     ]
    }
   ],
   "source": [
    "x_valid_imgs = glob.glob(os.path.join(alternating_gaps_dir, \"validation/*.png\"))\n",
    "x_imgs_valid = []\n",
    "x_labels_valid_alternating_gaps = []\n",
    "for img_path in x_valid_imgs:\n",
    "    img = io.imread(img_path, as_gray=True)\n",
    "    x_imgs_valid.append(img)\n",
    "    img_name = img_path.split('/')[-1]\n",
    "    img_name = img_name.split('.')[0]\n",
    "    x_labels_valid_alternating_gaps.append(img_name)\n",
    "print(\"X_valid_alternating_gaps\")\n",
    "print(f\"# of images: {len(x_imgs_valid)}\")\n",
    "X_valid_alternating_gaps = np.array(x_imgs_valid, dtype='float32')\n",
    "X_valid_alternating_gaps/=255\n",
    "print(f\"{X_valid_alternating_gaps.ndim}\")\n",
    "print(f\"{X_valid_alternating_gaps.shape}\")\n",
    "# print(f\"{X_valid_alternating_gaps.dtype.names}\")\n",
    "# print(f\"{X_valid_alternating_gaps[0]}\")\n",
    "\n",
    "y_valid_imgs = glob.glob(os.path.join(alternating_gaps_dir, \"validation_path/*.png\"))\n",
    "y_imgs_valid = []\n",
    "y_labels_valid_alternating_gaps = []\n",
    "for img_path in y_valid_imgs:\n",
    "    img = io.imread(img_path, as_gray=True)\n",
    "    y_imgs_valid.append(img)\n",
    "    img_name = img_path.split('/')[-1]\n",
    "    img_name = img_name.split('.')[0]\n",
    "    y_labels_valid_alternating_gaps.append(img_name)\n",
    "print(\"y_valid_alternating_gaps\")\n",
    "print(f\"# of images: {len(y_imgs_valid)}\")\n",
    "y_valid_alternating_gaps = np.array(y_imgs_valid, dtype='float32')\n",
    "y_valid_alternating_gaps/=255\n",
    "print(f\"{y_valid_alternating_gaps.ndim}\")\n",
    "print(f\"{y_valid_alternating_gaps.shape}\")\n",
    "# print(f\"{y_valid_alternating_gaps.dtype.names}\")\n",
    "# print(f\"{y_valid_alternating_gaps[0]}\")"
   ]
  },
  {
   "cell_type": "markdown",
   "metadata": {},
   "source": [
    "### Test Data"
   ]
  },
  {
   "cell_type": "code",
   "execution_count": 11,
   "metadata": {},
   "outputs": [
    {
     "name": "stdout",
     "output_type": "stream",
     "text": [
      "X_test_alternating_gaps\n",
      "# of images: 100\n",
      "3\n",
      "(100, 32, 32)\n",
      "y_test_alternating_gaps\n",
      "# of images: 100\n",
      "3\n",
      "(100, 32, 32)\n"
     ]
    }
   ],
   "source": [
    "x_test_imgs = glob.glob(os.path.join(alternating_gaps_dir, \"test/*.png\"))\n",
    "imgs_test = []\n",
    "x_labels_test_alternating_gaps = []\n",
    "for img_path in x_test_imgs:\n",
    "    img = io.imread(img_path, as_gray=True)\n",
    "    imgs_test.append(img)\n",
    "    img_name = img_path.split('/')[-1]\n",
    "    img_name = img_name.split('.')[0]\n",
    "    x_labels_test_alternating_gaps.append(img_name)\n",
    "print(\"X_test_alternating_gaps\")\n",
    "print(f\"# of images: {len(imgs_test)}\")\n",
    "X_test_alternating_gaps = np.array(imgs_test, dtype='float32')\n",
    "X_test_alternating_gaps/=255\n",
    "# X_test = np.array(imgs_test)\n",
    "print(f\"{X_test_alternating_gaps.ndim}\")\n",
    "print(f\"{X_test_alternating_gaps.shape}\")\n",
    "# print(f\"{X_test_alternating_gaps.dtype.names}\")\n",
    "# print(f\"{X_test_alternating_gaps[0]}\")\n",
    "\n",
    "y_test_imgs = glob.glob(os.path.join(alternating_gaps_dir, \"test_path/*.png\"))\n",
    "y_imgs_test = []\n",
    "y_labels_test_alternating_gaps = []\n",
    "for img_path in y_test_imgs:\n",
    "    img = io.imread(img_path, as_gray=True)\n",
    "    y_imgs_test.append(img)\n",
    "    img_name = img_path.split('/')[-1]\n",
    "    img_name = img_name.split('.')[0]\n",
    "    y_labels_test_alternating_gaps.append(img_name)\n",
    "print(\"y_test_alternating_gaps\")\n",
    "print(f\"# of images: {len(y_imgs_test)}\")\n",
    "y_test_alternating_gaps = np.array(y_imgs_test, dtype='float32')\n",
    "y_test_alternating_gaps/=255\n",
    "print(f\"{y_test_alternating_gaps.ndim}\")\n",
    "print(f\"{y_test_alternating_gaps.shape}\")\n",
    "# print(f\"{y_test_alternating_gaps.dtype.names}\")\n",
    "# print(f\"{y_test_alternating_gaps[0]}\")"
   ]
  },
  {
   "cell_type": "code",
   "execution_count": 12,
   "metadata": {},
   "outputs": [],
   "source": [
    "# input_shape = (32, 32, 1)\n",
    "img_rows, img_cols = 32, 32\n",
    "if K.image_data_format() == 'channels_first':\n",
    "    X_train_alternating_gaps = X_train_alternating_gaps.reshape(X_train_alternating_gaps.shape[0], 1, img_rows, img_cols)\n",
    "    X_valid_alternating_gaps = X_valid_alternating_gaps.reshape(X_valid_alternating_gaps.shape[0], 1, img_rows, img_cols)\n",
    "    X_test_alternating_gaps = X_test_alternating_gaps.reshape(X_test_alternating_gaps.shape[0], 1, img_rows, img_cols)\n",
    "    y_train_alternating_gaps = y_train_alternating_gaps.reshape(y_train_alternating_gaps.shape[0], 1, img_rows, img_cols)\n",
    "    y_valid_alternating_gaps = y_valid_alternating_gaps.reshape(y_valid_alternating_gaps.shape[0], 1, img_rows, img_cols)\n",
    "    y_test_alternating_gaps = y_test_alternating_gaps.reshape(y_test_alternating_gaps.shape[0], 1, img_rows, img_cols)\n",
    "    input_shape = (1, img_rows, img_cols)\n",
    "else:\n",
    "    X_train_alternating_gaps = X_train_alternating_gaps.reshape(X_train_alternating_gaps.shape[0], img_rows, img_cols, 1)\n",
    "    X_valid_alternating_gaps = X_valid_alternating_gaps.reshape(X_valid_alternating_gaps.shape[0], img_rows, img_cols, 1)\n",
    "    X_test_alternating_gaps = X_test_alternating_gaps.reshape(X_test_alternating_gaps.shape[0], img_rows, img_cols, 1)\n",
    "    y_train_alternating_gaps = y_train_alternating_gaps.reshape(y_train_alternating_gaps.shape[0], img_rows, img_cols, 1)\n",
    "    y_valid_alternating_gaps = y_valid_alternating_gaps.reshape(y_valid_alternating_gaps.shape[0], img_rows, img_cols, 1)\n",
    "    y_test_alternating_gaps = y_test_alternating_gaps.reshape(y_test_alternating_gaps.shape[0], img_rows, img_cols, 1)\n",
    "    input_shape = (img_rows, img_cols, 1)"
   ]
  },
  {
   "cell_type": "markdown",
   "metadata": {},
   "source": [
    "## Bugtrap Forest"
   ]
  },
  {
   "cell_type": "code",
   "execution_count": 13,
   "metadata": {},
   "outputs": [],
   "source": [
    "# Bugtrap Forest\n",
    "bugtrap_forest_dir = os.path.join(data_dir, \"bugtrap_forest\" )\n",
    "bugtrap_forest_train_csv_path = os.path.join(bugtrap_forest_dir,\"bugtrap_forest_train.csv\")\n",
    "bugtrap_forest_test_csv_path = os.path.join(bugtrap_forest_dir,\"bugtrap_forest_test.csv\")\n",
    "bugtrap_forest_valid_csv_path = os.path.join(bugtrap_forest_dir,\"bugtrap_forest_validation.csv\")\n",
    "bugtrap_forest_train_data = pd.read_csv(bugtrap_forest_train_csv_path)\n",
    "bugtrap_forest_test_data = pd.read_csv(bugtrap_forest_test_csv_path)\n",
    "bugtrap_forest_valid_data = pd.read_csv(bugtrap_forest_valid_csv_path)"
   ]
  },
  {
   "cell_type": "markdown",
   "metadata": {},
   "source": [
    "### Train Data"
   ]
  },
  {
   "cell_type": "code",
   "execution_count": 14,
   "metadata": {},
   "outputs": [
    {
     "name": "stdout",
     "output_type": "stream",
     "text": [
      "X_train_bugtrap_forest\n",
      "# of images: 800\n",
      "3\n",
      "(800, 32, 32)\n",
      "y_train_bugtrap_forest\n",
      "# of images: 800\n",
      "3\n",
      "(800, 32, 32)\n"
     ]
    }
   ],
   "source": [
    "# X - Map image file\n",
    "# Y - Path image file\n",
    "\n",
    "x_train_imgs = glob.glob(os.path.join(bugtrap_forest_dir, \"train/*.png\"))\n",
    "x_imgs_train = []\n",
    "x_labels_train_bugtrap_forest = []\n",
    "for img_path in x_train_imgs:\n",
    "    img = io.imread(img_path, as_gray=True)\n",
    "    x_imgs_train.append(img)\n",
    "    img_name = img_path.split('/')[-1]\n",
    "    img_name = img_name.split('.')[0]\n",
    "    x_labels_train_bugtrap_forest.append(img_name)\n",
    "print(\"X_train_bugtrap_forest\")\n",
    "print(f\"# of images: {len(x_imgs_train)}\")\n",
    "X_train_bugtrap_forest = np.array(x_imgs_train, dtype='float32')\n",
    "X_train_bugtrap_forest/=255\n",
    "print(f\"{X_train_bugtrap_forest.ndim}\")\n",
    "print(f\"{X_train_bugtrap_forest.shape}\")\n",
    "# print(f\"{X_train_bugtrap_forest.dtype.names}\")\n",
    "# print(f\"{X_train_bugtrap_forest[0]}\")\n",
    "\n",
    "y_train_imgs = glob.glob(os.path.join(bugtrap_forest_dir, \"train_path/*.png\"))\n",
    "y_imgs_train = []\n",
    "y_labels_train_bugtrap_forest = []\n",
    "for img_path in y_train_imgs:\n",
    "    img = io.imread(img_path, as_gray=True)\n",
    "    y_imgs_train.append(img)\n",
    "    img_name = img_path.split('/')[-1]\n",
    "    img_name = img_name.split('.')[0]\n",
    "    y_labels_train_bugtrap_forest.append(img_name)\n",
    "print(\"y_train_bugtrap_forest\")\n",
    "print(f\"# of images: {len(y_imgs_train)}\")\n",
    "y_train_bugtrap_forest = np.array(y_imgs_train, dtype='float32')\n",
    "y_train_bugtrap_forest/=255\n",
    "print(f\"{y_train_bugtrap_forest.ndim}\")\n",
    "print(f\"{y_train_bugtrap_forest.shape}\")\n",
    "# print(f\"{y_train_bugtrap_forest.dtype.names}\")\n",
    "# print(f\"{y_train_bugtrap_forest[0]}\")"
   ]
  },
  {
   "cell_type": "markdown",
   "metadata": {},
   "source": [
    "### Validation Data"
   ]
  },
  {
   "cell_type": "code",
   "execution_count": 15,
   "metadata": {},
   "outputs": [
    {
     "name": "stdout",
     "output_type": "stream",
     "text": [
      "X_valid_bugtrap_forest\n",
      "# of images: 100\n",
      "3\n",
      "(100, 32, 32)\n",
      "y_valid_bugtrap_forest\n",
      "# of images: 100\n",
      "3\n",
      "(100, 32, 32)\n"
     ]
    }
   ],
   "source": [
    "x_valid_imgs = glob.glob(os.path.join(bugtrap_forest_dir, \"validation/*.png\"))\n",
    "x_imgs_valid = []\n",
    "x_labels_valid_bugtrap_forest = []\n",
    "for img_path in x_valid_imgs:\n",
    "    img = io.imread(img_path, as_gray=True)\n",
    "    x_imgs_valid.append(img)\n",
    "    img_name = img_path.split('/')[-1]\n",
    "    img_name = img_name.split('.')[0]\n",
    "    x_labels_valid_bugtrap_forest.append(img_name)\n",
    "print(\"X_valid_bugtrap_forest\")\n",
    "print(f\"# of images: {len(x_imgs_valid)}\")\n",
    "X_valid_bugtrap_forest = np.array(x_imgs_valid, dtype='float32')\n",
    "X_valid_bugtrap_forest/=255\n",
    "print(f\"{X_valid_bugtrap_forest.ndim}\")\n",
    "print(f\"{X_valid_bugtrap_forest.shape}\")\n",
    "# print(f\"{X_valid_bugtrap_forest.dtype.names}\")\n",
    "# print(f\"{X_valid_bugtrap_forest[0]}\")\n",
    "\n",
    "y_valid_imgs = glob.glob(os.path.join(bugtrap_forest_dir, \"validation_path/*.png\"))\n",
    "y_imgs_valid = []\n",
    "y_labels_valid_bugtrap_forest = []\n",
    "for img_path in y_valid_imgs:\n",
    "    img = io.imread(img_path, as_gray=True)\n",
    "    y_imgs_valid.append(img)\n",
    "    img_name = img_path.split('/')[-1]\n",
    "    img_name = img_name.split('.')[0]\n",
    "    y_labels_valid_bugtrap_forest.append(img_name)\n",
    "print(\"y_valid_bugtrap_forest\")\n",
    "print(f\"# of images: {len(y_imgs_valid)}\")\n",
    "y_valid_bugtrap_forest = np.array(y_imgs_valid, dtype='float32')\n",
    "y_valid_bugtrap_forest/=255\n",
    "print(f\"{y_valid_bugtrap_forest.ndim}\")\n",
    "print(f\"{y_valid_bugtrap_forest.shape}\")\n",
    "# print(f\"{y_valid_bugtrap_forest.dtype.names}\")\n",
    "# print(f\"{y_valid_bugtrap_forest[0]}\")"
   ]
  },
  {
   "cell_type": "markdown",
   "metadata": {},
   "source": [
    "### Test Data"
   ]
  },
  {
   "cell_type": "code",
   "execution_count": 16,
   "metadata": {},
   "outputs": [
    {
     "name": "stdout",
     "output_type": "stream",
     "text": [
      "X_test_bugtrap_forest\n",
      "# of images: 100\n",
      "3\n",
      "(100, 32, 32)\n",
      "y_test_bugtrap_forest\n",
      "# of images: 100\n",
      "3\n",
      "(100, 32, 32)\n"
     ]
    }
   ],
   "source": [
    "x_test_imgs = glob.glob(os.path.join(bugtrap_forest_dir, \"test/*.png\"))\n",
    "imgs_test = []\n",
    "x_labels_test_bugtrap_forest = []\n",
    "for img_path in x_test_imgs:\n",
    "    img = io.imread(img_path, as_gray=True)\n",
    "    imgs_test.append(img)\n",
    "    img_name = img_path.split('/')[-1]\n",
    "    img_name = img_name.split('.')[0]\n",
    "    x_labels_test_bugtrap_forest.append(img_name)\n",
    "print(\"X_test_bugtrap_forest\")\n",
    "print(f\"# of images: {len(imgs_test)}\")\n",
    "X_test_bugtrap_forest = np.array(imgs_test, dtype='float32')\n",
    "X_test_bugtrap_forest/=255\n",
    "# X_test = np.array(imgs_test)\n",
    "print(f\"{X_test_bugtrap_forest.ndim}\")\n",
    "print(f\"{X_test_bugtrap_forest.shape}\")\n",
    "# print(f\"{X_test_bugtrap_forest.dtype.names}\")\n",
    "# print(f\"{X_test_bugtrap_forest[0]}\")\n",
    "\n",
    "y_test_imgs = glob.glob(os.path.join(bugtrap_forest_dir, \"test_path/*.png\"))\n",
    "y_imgs_test = []\n",
    "y_labels_test_bugtrap_forest = []\n",
    "for img_path in y_test_imgs:\n",
    "    img = io.imread(img_path, as_gray=True)\n",
    "    y_imgs_test.append(img)\n",
    "    img_name = img_path.split('/')[-1]\n",
    "    img_name = img_name.split('.')[0]\n",
    "    y_labels_test_bugtrap_forest.append(img_name)\n",
    "print(\"y_test_bugtrap_forest\")\n",
    "print(f\"# of images: {len(y_imgs_test)}\")\n",
    "y_test_bugtrap_forest = np.array(y_imgs_test, dtype='float32')\n",
    "y_test_bugtrap_forest/=255\n",
    "print(f\"{y_test_bugtrap_forest.ndim}\")\n",
    "print(f\"{y_test_bugtrap_forest.shape}\")\n",
    "# print(f\"{y_test_bugtrap_forest.dtype.names}\")\n",
    "# print(f\"{y_test_bugtrap_forest[0]}\")"
   ]
  },
  {
   "cell_type": "code",
   "execution_count": 17,
   "metadata": {},
   "outputs": [],
   "source": [
    "# input_shape = (32, 32, 1)\n",
    "img_rows, img_cols = 32, 32\n",
    "if K.image_data_format() == 'channels_first':\n",
    "    X_train_bugtrap_forest = X_train_bugtrap_forest.reshape(X_train_bugtrap_forest.shape[0], 1, img_rows, img_cols)\n",
    "    X_valid_bugtrap_forest = X_valid_bugtrap_forest.reshape(X_valid_bugtrap_forest.shape[0], 1, img_rows, img_cols)\n",
    "    X_test_bugtrap_forest = X_test_bugtrap_forest.reshape(X_test_bugtrap_forest.shape[0], 1, img_rows, img_cols)\n",
    "    y_train_bugtrap_forest = y_train_bugtrap_forest.reshape(y_train_bugtrap_forest.shape[0], 1, img_rows, img_cols)\n",
    "    y_valid_bugtrap_forest = y_valid_bugtrap_forest.reshape(y_valid_bugtrap_forest.shape[0], 1, img_rows, img_cols)\n",
    "    y_test_bugtrap_forest = y_test_bugtrap_forest.reshape(y_test_bugtrap_forest.shape[0], 1, img_rows, img_cols)\n",
    "    input_shape = (1, img_rows, img_cols)\n",
    "else:\n",
    "    X_train_bugtrap_forest = X_train_bugtrap_forest.reshape(X_train_bugtrap_forest.shape[0], img_rows, img_cols, 1)\n",
    "    X_valid_bugtrap_forest = X_valid_bugtrap_forest.reshape(X_valid_bugtrap_forest.shape[0], img_rows, img_cols, 1)\n",
    "    X_test_bugtrap_forest = X_test_bugtrap_forest.reshape(X_test_bugtrap_forest.shape[0], img_rows, img_cols, 1)\n",
    "    y_train_bugtrap_forest = y_train_bugtrap_forest.reshape(y_train_bugtrap_forest.shape[0], img_rows, img_cols, 1)\n",
    "    y_valid_bugtrap_forest = y_valid_bugtrap_forest.reshape(y_valid_bugtrap_forest.shape[0], img_rows, img_cols, 1)\n",
    "    y_test_bugtrap_forest = y_test_bugtrap_forest.reshape(y_test_bugtrap_forest.shape[0], img_rows, img_cols, 1)\n",
    "    input_shape = (img_rows, img_cols, 1)"
   ]
  },
  {
   "cell_type": "markdown",
   "metadata": {},
   "source": [
    "## Multiple Bugtraps"
   ]
  },
  {
   "cell_type": "code",
   "execution_count": 18,
   "metadata": {},
   "outputs": [
    {
     "ename": "FileNotFoundError",
     "evalue": "File b'../data/multiple_bugtraps/mazes_test.csv' does not exist",
     "output_type": "error",
     "traceback": [
      "\u001b[0;31m---------------------------------------------------------------------------\u001b[0m",
      "\u001b[0;31mFileNotFoundError\u001b[0m                         Traceback (most recent call last)",
      "\u001b[0;32m<ipython-input-18-cfc157c8b892>\u001b[0m in \u001b[0;36m<module>\u001b[0;34m()\u001b[0m\n\u001b[1;32m      5\u001b[0m \u001b[0mmultiple_bugtraps_valid_csv_path\u001b[0m \u001b[0;34m=\u001b[0m \u001b[0mos\u001b[0m\u001b[0;34m.\u001b[0m\u001b[0mpath\u001b[0m\u001b[0;34m.\u001b[0m\u001b[0mjoin\u001b[0m\u001b[0;34m(\u001b[0m\u001b[0mmultiple_bugtraps_dir\u001b[0m\u001b[0;34m,\u001b[0m\u001b[0;34m\"mazes_validation.csv\"\u001b[0m\u001b[0;34m)\u001b[0m\u001b[0;34m\u001b[0m\u001b[0;34m\u001b[0m\u001b[0m\n\u001b[1;32m      6\u001b[0m \u001b[0mmultiple_bugtraps_train_data\u001b[0m \u001b[0;34m=\u001b[0m \u001b[0mpd\u001b[0m\u001b[0;34m.\u001b[0m\u001b[0mread_csv\u001b[0m\u001b[0;34m(\u001b[0m\u001b[0mmultiple_bugtraps_train_csv_path\u001b[0m\u001b[0;34m)\u001b[0m\u001b[0;34m\u001b[0m\u001b[0;34m\u001b[0m\u001b[0m\n\u001b[0;32m----> 7\u001b[0;31m \u001b[0mmultiple_bugtraps_test_data\u001b[0m \u001b[0;34m=\u001b[0m \u001b[0mpd\u001b[0m\u001b[0;34m.\u001b[0m\u001b[0mread_csv\u001b[0m\u001b[0;34m(\u001b[0m\u001b[0mmultiple_bugtraps_test_csv_path\u001b[0m\u001b[0;34m)\u001b[0m\u001b[0;34m\u001b[0m\u001b[0;34m\u001b[0m\u001b[0m\n\u001b[0m\u001b[1;32m      8\u001b[0m \u001b[0mmultiple_bugtraps_valid_data\u001b[0m \u001b[0;34m=\u001b[0m \u001b[0mpd\u001b[0m\u001b[0;34m.\u001b[0m\u001b[0mread_csv\u001b[0m\u001b[0;34m(\u001b[0m\u001b[0mmultiple_bugtraps_valid_csv_path\u001b[0m\u001b[0;34m)\u001b[0m\u001b[0;34m\u001b[0m\u001b[0;34m\u001b[0m\u001b[0m\n",
      "\u001b[0;32m/home/chris/anaconda3/envs/AI4AVenv/lib/python3.6/site-packages/pandas/io/parsers.py\u001b[0m in \u001b[0;36mparser_f\u001b[0;34m(filepath_or_buffer, sep, delimiter, header, names, index_col, usecols, squeeze, prefix, mangle_dupe_cols, dtype, engine, converters, true_values, false_values, skipinitialspace, skiprows, nrows, na_values, keep_default_na, na_filter, verbose, skip_blank_lines, parse_dates, infer_datetime_format, keep_date_col, date_parser, dayfirst, iterator, chunksize, compression, thousands, decimal, lineterminator, quotechar, quoting, escapechar, comment, encoding, dialect, tupleize_cols, error_bad_lines, warn_bad_lines, skipfooter, skip_footer, doublequote, delim_whitespace, as_recarray, compact_ints, use_unsigned, low_memory, buffer_lines, memory_map, float_precision)\u001b[0m\n\u001b[1;32m    653\u001b[0m                     skip_blank_lines=skip_blank_lines)\n\u001b[1;32m    654\u001b[0m \u001b[0;34m\u001b[0m\u001b[0m\n\u001b[0;32m--> 655\u001b[0;31m         \u001b[0;32mreturn\u001b[0m \u001b[0m_read\u001b[0m\u001b[0;34m(\u001b[0m\u001b[0mfilepath_or_buffer\u001b[0m\u001b[0;34m,\u001b[0m \u001b[0mkwds\u001b[0m\u001b[0;34m)\u001b[0m\u001b[0;34m\u001b[0m\u001b[0;34m\u001b[0m\u001b[0m\n\u001b[0m\u001b[1;32m    656\u001b[0m \u001b[0;34m\u001b[0m\u001b[0m\n\u001b[1;32m    657\u001b[0m     \u001b[0mparser_f\u001b[0m\u001b[0;34m.\u001b[0m\u001b[0m__name__\u001b[0m \u001b[0;34m=\u001b[0m \u001b[0mname\u001b[0m\u001b[0;34m\u001b[0m\u001b[0;34m\u001b[0m\u001b[0m\n",
      "\u001b[0;32m/home/chris/anaconda3/envs/AI4AVenv/lib/python3.6/site-packages/pandas/io/parsers.py\u001b[0m in \u001b[0;36m_read\u001b[0;34m(filepath_or_buffer, kwds)\u001b[0m\n\u001b[1;32m    403\u001b[0m \u001b[0;34m\u001b[0m\u001b[0m\n\u001b[1;32m    404\u001b[0m     \u001b[0;31m# Create the parser.\u001b[0m\u001b[0;34m\u001b[0m\u001b[0;34m\u001b[0m\u001b[0;34m\u001b[0m\u001b[0m\n\u001b[0;32m--> 405\u001b[0;31m     \u001b[0mparser\u001b[0m \u001b[0;34m=\u001b[0m \u001b[0mTextFileReader\u001b[0m\u001b[0;34m(\u001b[0m\u001b[0mfilepath_or_buffer\u001b[0m\u001b[0;34m,\u001b[0m \u001b[0;34m**\u001b[0m\u001b[0mkwds\u001b[0m\u001b[0;34m)\u001b[0m\u001b[0;34m\u001b[0m\u001b[0;34m\u001b[0m\u001b[0m\n\u001b[0m\u001b[1;32m    406\u001b[0m \u001b[0;34m\u001b[0m\u001b[0m\n\u001b[1;32m    407\u001b[0m     \u001b[0;32mif\u001b[0m \u001b[0mchunksize\u001b[0m \u001b[0;32mor\u001b[0m \u001b[0miterator\u001b[0m\u001b[0;34m:\u001b[0m\u001b[0;34m\u001b[0m\u001b[0;34m\u001b[0m\u001b[0m\n",
      "\u001b[0;32m/home/chris/anaconda3/envs/AI4AVenv/lib/python3.6/site-packages/pandas/io/parsers.py\u001b[0m in \u001b[0;36m__init__\u001b[0;34m(self, f, engine, **kwds)\u001b[0m\n\u001b[1;32m    762\u001b[0m             \u001b[0mself\u001b[0m\u001b[0;34m.\u001b[0m\u001b[0moptions\u001b[0m\u001b[0;34m[\u001b[0m\u001b[0;34m'has_index_names'\u001b[0m\u001b[0;34m]\u001b[0m \u001b[0;34m=\u001b[0m \u001b[0mkwds\u001b[0m\u001b[0;34m[\u001b[0m\u001b[0;34m'has_index_names'\u001b[0m\u001b[0;34m]\u001b[0m\u001b[0;34m\u001b[0m\u001b[0;34m\u001b[0m\u001b[0m\n\u001b[1;32m    763\u001b[0m \u001b[0;34m\u001b[0m\u001b[0m\n\u001b[0;32m--> 764\u001b[0;31m         \u001b[0mself\u001b[0m\u001b[0;34m.\u001b[0m\u001b[0m_make_engine\u001b[0m\u001b[0;34m(\u001b[0m\u001b[0mself\u001b[0m\u001b[0;34m.\u001b[0m\u001b[0mengine\u001b[0m\u001b[0;34m)\u001b[0m\u001b[0;34m\u001b[0m\u001b[0;34m\u001b[0m\u001b[0m\n\u001b[0m\u001b[1;32m    765\u001b[0m \u001b[0;34m\u001b[0m\u001b[0m\n\u001b[1;32m    766\u001b[0m     \u001b[0;32mdef\u001b[0m \u001b[0mclose\u001b[0m\u001b[0;34m(\u001b[0m\u001b[0mself\u001b[0m\u001b[0;34m)\u001b[0m\u001b[0;34m:\u001b[0m\u001b[0;34m\u001b[0m\u001b[0;34m\u001b[0m\u001b[0m\n",
      "\u001b[0;32m/home/chris/anaconda3/envs/AI4AVenv/lib/python3.6/site-packages/pandas/io/parsers.py\u001b[0m in \u001b[0;36m_make_engine\u001b[0;34m(self, engine)\u001b[0m\n\u001b[1;32m    983\u001b[0m     \u001b[0;32mdef\u001b[0m \u001b[0m_make_engine\u001b[0m\u001b[0;34m(\u001b[0m\u001b[0mself\u001b[0m\u001b[0;34m,\u001b[0m \u001b[0mengine\u001b[0m\u001b[0;34m=\u001b[0m\u001b[0;34m'c'\u001b[0m\u001b[0;34m)\u001b[0m\u001b[0;34m:\u001b[0m\u001b[0;34m\u001b[0m\u001b[0;34m\u001b[0m\u001b[0m\n\u001b[1;32m    984\u001b[0m         \u001b[0;32mif\u001b[0m \u001b[0mengine\u001b[0m \u001b[0;34m==\u001b[0m \u001b[0;34m'c'\u001b[0m\u001b[0;34m:\u001b[0m\u001b[0;34m\u001b[0m\u001b[0;34m\u001b[0m\u001b[0m\n\u001b[0;32m--> 985\u001b[0;31m             \u001b[0mself\u001b[0m\u001b[0;34m.\u001b[0m\u001b[0m_engine\u001b[0m \u001b[0;34m=\u001b[0m \u001b[0mCParserWrapper\u001b[0m\u001b[0;34m(\u001b[0m\u001b[0mself\u001b[0m\u001b[0;34m.\u001b[0m\u001b[0mf\u001b[0m\u001b[0;34m,\u001b[0m \u001b[0;34m**\u001b[0m\u001b[0mself\u001b[0m\u001b[0;34m.\u001b[0m\u001b[0moptions\u001b[0m\u001b[0;34m)\u001b[0m\u001b[0;34m\u001b[0m\u001b[0;34m\u001b[0m\u001b[0m\n\u001b[0m\u001b[1;32m    986\u001b[0m         \u001b[0;32melse\u001b[0m\u001b[0;34m:\u001b[0m\u001b[0;34m\u001b[0m\u001b[0;34m\u001b[0m\u001b[0m\n\u001b[1;32m    987\u001b[0m             \u001b[0;32mif\u001b[0m \u001b[0mengine\u001b[0m \u001b[0;34m==\u001b[0m \u001b[0;34m'python'\u001b[0m\u001b[0;34m:\u001b[0m\u001b[0;34m\u001b[0m\u001b[0;34m\u001b[0m\u001b[0m\n",
      "\u001b[0;32m/home/chris/anaconda3/envs/AI4AVenv/lib/python3.6/site-packages/pandas/io/parsers.py\u001b[0m in \u001b[0;36m__init__\u001b[0;34m(self, src, **kwds)\u001b[0m\n\u001b[1;32m   1603\u001b[0m         \u001b[0mkwds\u001b[0m\u001b[0;34m[\u001b[0m\u001b[0;34m'allow_leading_cols'\u001b[0m\u001b[0;34m]\u001b[0m \u001b[0;34m=\u001b[0m \u001b[0mself\u001b[0m\u001b[0;34m.\u001b[0m\u001b[0mindex_col\u001b[0m \u001b[0;32mis\u001b[0m \u001b[0;32mnot\u001b[0m \u001b[0;32mFalse\u001b[0m\u001b[0;34m\u001b[0m\u001b[0;34m\u001b[0m\u001b[0m\n\u001b[1;32m   1604\u001b[0m \u001b[0;34m\u001b[0m\u001b[0m\n\u001b[0;32m-> 1605\u001b[0;31m         \u001b[0mself\u001b[0m\u001b[0;34m.\u001b[0m\u001b[0m_reader\u001b[0m \u001b[0;34m=\u001b[0m \u001b[0mparsers\u001b[0m\u001b[0;34m.\u001b[0m\u001b[0mTextReader\u001b[0m\u001b[0;34m(\u001b[0m\u001b[0msrc\u001b[0m\u001b[0;34m,\u001b[0m \u001b[0;34m**\u001b[0m\u001b[0mkwds\u001b[0m\u001b[0;34m)\u001b[0m\u001b[0;34m\u001b[0m\u001b[0;34m\u001b[0m\u001b[0m\n\u001b[0m\u001b[1;32m   1606\u001b[0m \u001b[0;34m\u001b[0m\u001b[0m\n\u001b[1;32m   1607\u001b[0m         \u001b[0;31m# XXX\u001b[0m\u001b[0;34m\u001b[0m\u001b[0;34m\u001b[0m\u001b[0;34m\u001b[0m\u001b[0m\n",
      "\u001b[0;32mpandas/_libs/parsers.pyx\u001b[0m in \u001b[0;36mpandas._libs.parsers.TextReader.__cinit__ (pandas/_libs/parsers.c:4209)\u001b[0;34m()\u001b[0m\n",
      "\u001b[0;32mpandas/_libs/parsers.pyx\u001b[0m in \u001b[0;36mpandas._libs.parsers.TextReader._setup_parser_source (pandas/_libs/parsers.c:8873)\u001b[0;34m()\u001b[0m\n",
      "\u001b[0;31mFileNotFoundError\u001b[0m: File b'../data/multiple_bugtraps/mazes_test.csv' does not exist"
     ]
    }
   ],
   "source": [
    "# Multiple Bugtraps\n",
    "multiple_bugtraps_dir = os.path.join(data_dir, \"multiple_bugtraps\" )\n",
    "multiple_bugtraps_train_csv_path = os.path.join(multiple_bugtraps_dir,\"multiple_bugtraps_train.csv\")\n",
    "multiple_bugtraps_test_csv_path = os.path.join(multiple_bugtraps_dir,\"multiple_bugtraps_test.csv\")\n",
    "multiple_bugtraps_valid_csv_path = os.path.join(multiple_bugtraps_dir,\"multiple_bugtraps_validation.csv\")\n",
    "multiple_bugtraps_train_data = pd.read_csv(multiple_bugtraps_train_csv_path)\n",
    "multiple_bugtraps_test_data = pd.read_csv(multiple_bugtraps_test_csv_path)\n",
    "multiple_bugtraps_valid_data = pd.read_csv(multiple_bugtraps_valid_csv_path)"
   ]
  },
  {
   "cell_type": "markdown",
   "metadata": {},
   "source": [
    "### Train Data"
   ]
  },
  {
   "cell_type": "code",
   "execution_count": null,
   "metadata": {},
   "outputs": [],
   "source": [
    "# X - Map image file\n",
    "# Y - Path image file\n",
    "\n",
    "x_train_imgs = glob.glob(os.path.join(multiple_bugtraps_dir, \"train/*.png\"))\n",
    "x_imgs_train = []\n",
    "x_labels_train_multiple_bugtraps = []\n",
    "for img_path in x_train_imgs:\n",
    "    img = io.imread(img_path, as_gray=True)\n",
    "    x_imgs_train.append(img)\n",
    "    img_name = img_path.split('/')[-1]\n",
    "    img_name = img_name.split('.')[0]\n",
    "    x_labels_train_multiple_bugtraps.append(img_name)\n",
    "print(\"X_train_multiple_bugtraps\")\n",
    "print(f\"# of images: {len(x_imgs_train)}\")\n",
    "X_train_multiple_bugtraps = np.array(x_imgs_train, dtype='float32')\n",
    "X_train_multiple_bugtraps/=255\n",
    "print(f\"{X_train_multiple_bugtraps.ndim}\")\n",
    "print(f\"{X_train_multiple_bugtraps.shape}\")\n",
    "# print(f\"{X_train_multiple_bugtraps.dtype.names}\")\n",
    "# print(f\"{X_train_multiple_bugtraps[0]}\")\n",
    "\n",
    "y_train_imgs = glob.glob(os.path.join(multiple_bugtraps_dir, \"train_path/*.png\"))\n",
    "y_imgs_train = []\n",
    "y_labels_train_multiple_bugtraps = []\n",
    "for img_path in y_train_imgs:\n",
    "    img = io.imread(img_path, as_gray=True)\n",
    "    y_imgs_train.append(img)\n",
    "    img_name = img_path.split('/')[-1]\n",
    "    img_name = img_name.split('.')[0]\n",
    "    y_labels_train_multiple_bugtraps.append(img_name)\n",
    "print(\"y_train_multiple_bugtraps\")\n",
    "print(f\"# of images: {len(y_imgs_train)}\")\n",
    "y_train_multiple_bugtraps = np.array(y_imgs_train, dtype='float32')\n",
    "y_train_multiple_bugtraps/=255\n",
    "print(f\"{y_train_multiple_bugtraps.ndim}\")\n",
    "print(f\"{y_train_multiple_bugtraps.shape}\")\n",
    "# print(f\"{y_train_multiple_bugtraps.dtype.names}\")\n",
    "# print(f\"{y_train_multiple_bugtraps[0]}\")"
   ]
  },
  {
   "cell_type": "markdown",
   "metadata": {},
   "source": [
    "### Validation Data"
   ]
  },
  {
   "cell_type": "code",
   "execution_count": null,
   "metadata": {},
   "outputs": [],
   "source": [
    "x_valid_imgs = glob.glob(os.path.join(multiple_bugtraps_dir, \"validation/*.png\"))\n",
    "x_imgs_valid = []\n",
    "x_labels_valid_multiple_bugtraps = []\n",
    "for img_path in x_valid_imgs:\n",
    "    img = io.imread(img_path, as_gray=True)\n",
    "    x_imgs_valid.append(img)\n",
    "    img_name = img_path.split('/')[-1]\n",
    "    img_name = img_name.split('.')[0]\n",
    "    x_labels_valid_multiple_bugtraps.append(img_name)\n",
    "print(\"X_valid_multiple_bugtraps\")\n",
    "print(f\"# of images: {len(x_imgs_valid)}\")\n",
    "X_valid_multiple_bugtraps = np.array(x_imgs_valid, dtype='float32')\n",
    "X_valid_multiple_bugtraps/=255\n",
    "print(f\"{X_valid_multiple_bugtraps.ndim}\")\n",
    "print(f\"{X_valid_multiple_bugtraps.shape}\")\n",
    "# print(f\"{X_valid_multiple_bugtraps.dtype.names}\")\n",
    "# print(f\"{X_valid_multiple_bugtraps[0]}\")\n",
    "\n",
    "y_valid_imgs = glob.glob(os.path.join(multiple_bugtraps_dir, \"validation_path/*.png\"))\n",
    "y_imgs_valid = []\n",
    "y_labels_valid_multiple_bugtraps = []\n",
    "for img_path in y_valid_imgs:\n",
    "    img = io.imread(img_path, as_gray=True)\n",
    "    y_imgs_valid.append(img)\n",
    "    img_name = img_path.split('/')[-1]\n",
    "    img_name = img_name.split('.')[0]\n",
    "    y_labels_valid_multiple_bugtraps.append(img_name)\n",
    "print(\"y_valid_multiple_bugtraps\")\n",
    "print(f\"# of images: {len(y_imgs_valid)}\")\n",
    "y_valid_multiple_bugtraps = np.array(y_imgs_valid, dtype='float32')\n",
    "y_valid_multiple_bugtraps/=255\n",
    "print(f\"{y_valid_multiple_bugtraps.ndim}\")\n",
    "print(f\"{y_valid_multiple_bugtraps.shape}\")\n",
    "# print(f\"{y_valid_multiple_bugtraps.dtype.names}\")\n",
    "# print(f\"{y_valid_multiple_bugtraps[0]}\")"
   ]
  },
  {
   "cell_type": "markdown",
   "metadata": {},
   "source": [
    "### Test Data"
   ]
  },
  {
   "cell_type": "code",
   "execution_count": null,
   "metadata": {},
   "outputs": [],
   "source": [
    "x_test_imgs = glob.glob(os.path.join(multiple_bugtraps_dir, \"test/*.png\"))\n",
    "imgs_test = []\n",
    "x_labels_test_multiple_bugtraps = []\n",
    "for img_path in x_test_imgs:\n",
    "    img = io.imread(img_path, as_gray=True)\n",
    "    imgs_test.append(img)\n",
    "    img_name = img_path.split('/')[-1]\n",
    "    img_name = img_name.split('.')[0]\n",
    "    x_labels_test_multiple_bugtraps.append(img_name)\n",
    "print(\"X_test_multiple_bugtraps\")\n",
    "print(f\"# of images: {len(imgs_test)}\")\n",
    "X_test_multiple_bugtraps = np.array(imgs_test, dtype='float32')\n",
    "X_test_multiple_bugtraps/=255\n",
    "# X_test = np.array(imgs_test)\n",
    "print(f\"{X_test_multiple_bugtraps.ndim}\")\n",
    "print(f\"{X_test_multiple_bugtraps.shape}\")\n",
    "# print(f\"{X_test_multiple_bugtraps.dtype.names}\")\n",
    "# print(f\"{X_test_multiple_bugtraps[0]}\")\n",
    "\n",
    "y_test_imgs = glob.glob(os.path.join(multiple_bugtraps_dir, \"test_path/*.png\"))\n",
    "y_imgs_test = []\n",
    "y_labels_test_multiple_bugtraps = []\n",
    "for img_path in y_test_imgs:\n",
    "    img = io.imread(img_path, as_gray=True)\n",
    "    y_imgs_test.append(img)\n",
    "    img_name = img_path.split('/')[-1]\n",
    "    img_name = img_name.split('.')[0]\n",
    "    y_labels_test_multiple_bugtraps.append(img_name)\n",
    "print(\"y_test_multiple_bugtraps\")\n",
    "print(f\"# of images: {len(y_imgs_test)}\")\n",
    "y_test_multiple_bugtraps = np.array(y_imgs_test, dtype='float32')\n",
    "y_test_multiple_bugtraps/=255\n",
    "print(f\"{y_test_multiple_bugtraps.ndim}\")\n",
    "print(f\"{y_test_multiple_bugtraps.shape}\")\n",
    "# print(f\"{y_test_multiple_bugtraps.dtype.names}\")\n",
    "# print(f\"{y_test_multiple_bugtraps[0]}\")"
   ]
  },
  {
   "cell_type": "code",
   "execution_count": null,
   "metadata": {},
   "outputs": [],
   "source": [
    "# input_shape = (32, 32, 1)\n",
    "img_rows, img_cols = 32, 32\n",
    "if K.image_data_format() == 'channels_first':\n",
    "    X_train_multiple_bugtraps = X_train_multiple_bugtraps.reshape(X_train_multiple_bugtraps.shape[0], 1, img_rows, img_cols)\n",
    "    X_valid_multiple_bugtraps = X_valid_multiple_bugtraps.reshape(X_valid_multiple_bugtraps.shape[0], 1, img_rows, img_cols)\n",
    "    X_test_multiple_bugtraps = X_test_multiple_bugtraps.reshape(X_test_multiple_bugtraps.shape[0], 1, img_rows, img_cols)\n",
    "    y_train_multiple_bugtraps = y_train_multiple_bugtraps.reshape(y_train_multiple_bugtraps.shape[0], 1, img_rows, img_cols)\n",
    "    y_valid_multiple_bugtraps = y_valid_multiple_bugtraps.reshape(y_valid_multiple_bugtraps.shape[0], 1, img_rows, img_cols)\n",
    "    y_test_multiple_bugtraps = y_test_multiple_bugtraps.reshape(y_test_multiple_bugtraps.shape[0], 1, img_rows, img_cols)\n",
    "    input_shape = (1, img_rows, img_cols)\n",
    "else:\n",
    "    X_train_multiple_bugtraps = X_train_multiple_bugtraps.reshape(X_train_multiple_bugtraps.shape[0], img_rows, img_cols, 1)\n",
    "    X_valid_multiple_bugtraps = X_valid_multiple_bugtraps.reshape(X_valid_multiple_bugtraps.shape[0], img_rows, img_cols, 1)\n",
    "    X_test_multiple_bugtraps = X_test_multiple_bugtraps.reshape(X_test_multiple_bugtraps.shape[0], img_rows, img_cols, 1)\n",
    "    y_train_multiple_bugtraps = y_train_multiple_bugtraps.reshape(y_train_multiple_bugtraps.shape[0], img_rows, img_cols, 1)\n",
    "    y_valid_multiple_bugtraps = y_valid_multiple_bugtraps.reshape(y_valid_multiple_bugtraps.shape[0], img_rows, img_cols, 1)\n",
    "    y_test_multiple_bugtraps = y_test_multiple_bugtraps.reshape(y_test_multiple_bugtraps.shape[0], img_rows, img_cols, 1)\n",
    "    input_shape = (img_rows, img_cols, 1)"
   ]
  },
  {
   "cell_type": "markdown",
   "metadata": {},
   "source": [
    "## Shifting Gaps"
   ]
  },
  {
   "cell_type": "code",
   "execution_count": null,
   "metadata": {},
   "outputs": [],
   "source": [
    "# Shifting Gaps\n",
    "shifting_gaps_dir = os.path.join(data_dir, \"shifting_gaps\" )\n",
    "shifting_gaps_train_csv_path = os.path.join(shifting_gaps_dir,\"shifting_gaps_train.csv\")\n",
    "shifting_gaps_test_csv_path = os.path.join(shifting_gaps_dir,\"shifting_gaps_test.csv\")\n",
    "shifting_gaps_valid_csv_path = os.path.join(shifting_gaps_dir,\"shifting_gaps_validation.csv\")\n",
    "shifting_gaps_train_data = pd.read_csv(shifting_gaps_train_csv_path)\n",
    "shifting_gaps_test_data = pd.read_csv(shifting_gaps_test_csv_path)\n",
    "shifting_gaps_valid_data = pd.read_csv(shifting_gaps_valid_csv_path)"
   ]
  },
  {
   "cell_type": "markdown",
   "metadata": {},
   "source": [
    "### Train Data"
   ]
  },
  {
   "cell_type": "code",
   "execution_count": null,
   "metadata": {},
   "outputs": [],
   "source": [
    "# X - Map image file\n",
    "# Y - Path image file\n",
    "\n",
    "x_train_imgs = glob.glob(os.path.join(shifting_gaps_dir, \"train/*.png\"))\n",
    "x_imgs_train = []\n",
    "x_labels_train_shifting_gaps = []\n",
    "for img_path in x_train_imgs:\n",
    "    img = io.imread(img_path, as_gray=True)\n",
    "    x_imgs_train.append(img)\n",
    "    img_name = img_path.split('/')[-1]\n",
    "    img_name = img_name.split('.')[0]\n",
    "    x_labels_train_shifting_gaps.append(img_name)\n",
    "print(\"X_train_shifting_gaps\")\n",
    "print(f\"# of images: {len(x_imgs_train)}\")\n",
    "X_train_shifting_gaps = np.array(x_imgs_train, dtype='float32')\n",
    "X_train_shifting_gaps/=255\n",
    "print(f\"{X_train_shifting_gaps.ndim}\")\n",
    "print(f\"{X_train_shifting_gaps.shape}\")\n",
    "# print(f\"{X_train_shifting_gaps.dtype.names}\")\n",
    "# print(f\"{X_train_shifting_gaps[0]}\")\n",
    "\n",
    "y_train_imgs = glob.glob(os.path.join(shifting_gaps_dir, \"train_path/*.png\"))\n",
    "y_imgs_train = []\n",
    "y_labels_train_shifting_gaps = []\n",
    "for img_path in y_train_imgs:\n",
    "    img = io.imread(img_path, as_gray=True)\n",
    "    y_imgs_train.append(img)\n",
    "    img_name = img_path.split('/')[-1]\n",
    "    img_name = img_name.split('.')[0]\n",
    "    y_labels_train_shifting_gaps.append(img_name)\n",
    "print(\"y_train_shifting_gaps\")\n",
    "print(f\"# of images: {len(y_imgs_train)}\")\n",
    "y_train_shifting_gaps = np.array(y_imgs_train, dtype='float32')\n",
    "y_train_shifting_gaps/=255\n",
    "print(f\"{y_train_shifting_gaps.ndim}\")\n",
    "print(f\"{y_train_shifting_gaps.shape}\")\n",
    "# print(f\"{y_train_shifting_gaps.dtype.names}\")\n",
    "# print(f\"{y_train_shifting_gaps[0]}\")"
   ]
  },
  {
   "cell_type": "markdown",
   "metadata": {},
   "source": [
    "### Validation Data"
   ]
  },
  {
   "cell_type": "code",
   "execution_count": null,
   "metadata": {},
   "outputs": [],
   "source": [
    "x_valid_imgs = glob.glob(os.path.join(shifting_gaps_dir, \"validation/*.png\"))\n",
    "x_imgs_valid = []\n",
    "x_labels_valid_shifting_gaps = []\n",
    "for img_path in x_valid_imgs:\n",
    "    img = io.imread(img_path, as_gray=True)\n",
    "    x_imgs_valid.append(img)\n",
    "    img_name = img_path.split('/')[-1]\n",
    "    img_name = img_name.split('.')[0]\n",
    "    x_labels_valid_shifting_gaps.append(img_name)\n",
    "print(\"X_valid_shifting_gaps\")\n",
    "print(f\"# of images: {len(x_imgs_valid)}\")\n",
    "X_valid_shifting_gaps = np.array(x_imgs_valid, dtype='float32')\n",
    "X_valid_shifting_gaps/=255\n",
    "print(f\"{X_valid_shifting_gaps.ndim}\")\n",
    "print(f\"{X_valid_shifting_gaps.shape}\")\n",
    "print(f\"{X_valid_shifting_gaps.dtype.names}\")\n",
    "print(f\"{X_valid_shifting_gaps[0]}\")\n",
    "\n",
    "y_valid_imgs = glob.glob(os.path.join(shifting_gaps_dir, \"validation_path/*.png\"))\n",
    "y_imgs_valid = []\n",
    "y_labels_valid_shifting_gaps = []\n",
    "for img_path in y_valid_imgs:\n",
    "    img = io.imread(img_path, as_gray=True)\n",
    "    y_imgs_valid.append(img)\n",
    "    img_name = img_path.split('/')[-1]\n",
    "    img_name = img_name.split('.')[0]\n",
    "    y_labels_valid_shifting_gaps.append(img_name)\n",
    "print(\"y_valid_shifting_gaps\")\n",
    "print(f\"# of images: {len(y_imgs_valid)}\")\n",
    "y_valid_shifting_gaps = np.array(y_imgs_valid, dtype='float32')\n",
    "y_valid_shifting_gaps/=255\n",
    "print(f\"{y_valid_shifting_gaps.ndim}\")\n",
    "print(f\"{y_valid_shifting_gaps.shape}\")\n",
    "print(f\"{y_valid_shifting_gaps.dtype.names}\")\n",
    "print(f\"{y_valid_shifting_gaps[0]}\")"
   ]
  },
  {
   "cell_type": "markdown",
   "metadata": {},
   "source": [
    "### Test Data"
   ]
  },
  {
   "cell_type": "code",
   "execution_count": null,
   "metadata": {},
   "outputs": [],
   "source": [
    "x_test_imgs = glob.glob(os.path.join(shifting_gaps_dir, \"test/*.png\"))\n",
    "imgs_test = []\n",
    "x_labels_test_shifting_gaps = []\n",
    "for img_path in x_test_imgs:\n",
    "    img = io.imread(img_path, as_gray=True)\n",
    "    imgs_test.append(img)\n",
    "    img_name = img_path.split('/')[-1]\n",
    "    img_name = img_name.split('.')[0]\n",
    "    x_labels_test_shifting_gaps.append(img_name)\n",
    "print(\"X_test_shifting_gaps\")\n",
    "print(f\"# of images: {len(imgs_test)}\")\n",
    "X_test_shifting_gaps = np.array(imgs_test, dtype='float32')\n",
    "X_test_shifting_gaps/=255\n",
    "# X_test = np.array(imgs_test)\n",
    "print(f\"{X_test_shifting_gaps.ndim}\")\n",
    "print(f\"{X_test_shifting_gaps.shape}\")\n",
    "print(f\"{X_test_shifting_gaps.dtype.names}\")\n",
    "print(f\"{X_test_shifting_gaps[0]}\")\n",
    "\n",
    "y_test_imgs = glob.glob(os.path.join(shifting_gaps_dir, \"test_path/*.png\"))\n",
    "y_imgs_test = []\n",
    "y_labels_test_shifting_gaps = []\n",
    "for img_path in y_test_imgs:\n",
    "    img = io.imread(img_path, as_gray=True)\n",
    "    y_imgs_test.append(img)\n",
    "    img_name = img_path.split('/')[-1]\n",
    "    img_name = img_name.split('.')[0]\n",
    "    y_labels_test_shifting_gaps.append(img_name)\n",
    "print(\"y_test_shifting_gaps\")\n",
    "print(f\"# of images: {len(y_imgs_test)}\")\n",
    "y_test_shifting_gaps = np.array(y_imgs_test, dtype='float32')\n",
    "y_test_shifting_gaps/=255\n",
    "print(f\"{y_test_shifting_gaps.ndim}\")\n",
    "print(f\"{y_test_shifting_gaps.shape}\")\n",
    "print(f\"{y_test_shifting_gaps.dtype.names}\")\n",
    "print(f\"{y_test_shifting_gaps[0]}\")"
   ]
  },
  {
   "cell_type": "code",
   "execution_count": null,
   "metadata": {},
   "outputs": [],
   "source": [
    "# input_shape = (32, 32, 1)\n",
    "img_rows, img_cols = 32, 32\n",
    "if K.image_data_format() == 'channels_first':\n",
    "    X_train_shifting_gaps = X_train_shifting_gaps.reshape(X_train_shifting_gaps.shape[0], 1, img_rows, img_cols)\n",
    "    X_valid_shifting_gaps = X_valid_shifting_gaps.reshape(X_valid_shifting_gaps.shape[0], 1, img_rows, img_cols)\n",
    "    X_test_shifting_gaps = X_test_shifting_gaps.reshape(X_test_shifting_gaps.shape[0], 1, img_rows, img_cols)\n",
    "    y_train_shifting_gaps = y_train_shifting_gaps.reshape(y_train_shifting_gaps.shape[0], 1, img_rows, img_cols)\n",
    "    y_valid_shifting_gaps = y_valid_shifting_gaps.reshape(y_valid_shifting_gaps.shape[0], 1, img_rows, img_cols)\n",
    "    y_test_shifting_gaps = y_test_shifting_gaps.reshape(y_test_shifting_gaps.shape[0], 1, img_rows, img_cols)\n",
    "    input_shape = (1, img_rows, img_cols)\n",
    "else:\n",
    "    X_train_shifting_gaps = X_train_shifting_gaps.reshape(X_train_shifting_gaps.shape[0], img_rows, img_cols, 1)\n",
    "    X_valid_shifting_gaps = X_valid_shifting_gaps.reshape(X_valid_shifting_gaps.shape[0], img_rows, img_cols, 1)\n",
    "    X_test_shifting_gaps = X_test_shifting_gaps.reshape(X_test_shifting_gaps.shape[0], img_rows, img_cols, 1)\n",
    "    y_train_shifting_gaps = y_train_shifting_gaps.reshape(y_train_shifting_gaps.shape[0], img_rows, img_cols, 1)\n",
    "    y_valid_shifting_gaps = y_valid_shifting_gaps.reshape(y_valid_shifting_gaps.shape[0], img_rows, img_cols, 1)\n",
    "    y_test_shifting_gaps = y_test_shifting_gaps.reshape(y_test_shifting_gaps.shape[0], img_rows, img_cols, 1)\n",
    "    input_shape = (img_rows, img_cols, 1)"
   ]
  },
  {
   "cell_type": "markdown",
   "metadata": {},
   "source": [
    "## Forest"
   ]
  },
  {
   "cell_type": "code",
   "execution_count": null,
   "metadata": {},
   "outputs": [],
   "source": [
    "# Forest\n",
    "forest_dir = os.path.join(data_dir, \"forest\" )\n",
    "forest_train_csv_path = os.path.join(forest_dir,\"forest_train.csv\")\n",
    "forest_test_csv_path = os.path.join(forest_dir,\"forest_test.csv\")\n",
    "forest_valid_csv_path = os.path.join(forest_dir,\"forest_validation.csv\")\n",
    "forest_train_data = pd.read_csv(forest_train_csv_path)\n",
    "forest_test_data = pd.read_csv(forest_test_csv_path)\n",
    "forest_valid_data = pd.read_csv(forest_valid_csv_path)"
   ]
  },
  {
   "cell_type": "markdown",
   "metadata": {},
   "source": [
    "### Train Data"
   ]
  },
  {
   "cell_type": "code",
   "execution_count": null,
   "metadata": {},
   "outputs": [],
   "source": [
    "# X - Map image file\n",
    "# Y - Path image file\n",
    "\n",
    "x_train_imgs = glob.glob(os.path.join(forest_dir, \"train/*.png\"))\n",
    "x_imgs_train = []\n",
    "x_labels_train_forest = []\n",
    "for img_path in x_train_imgs:\n",
    "    img = io.imread(img_path, as_gray=True)\n",
    "    x_imgs_train.append(img)\n",
    "    img_name = img_path.split('/')[-1]\n",
    "    img_name = img_name.split('.')[0]\n",
    "    x_labels_train_forest.append(img_name)\n",
    "print(\"X_train_forest\")\n",
    "print(f\"# of images: {len(x_imgs_train)}\")\n",
    "X_train_forest = np.array(x_imgs_train, dtype='float32')\n",
    "X_train_forest/=255\n",
    "print(f\"{X_train_forest.ndim}\")\n",
    "print(f\"{X_train_forest.shape}\")\n",
    "# print(f\"{X_train_forest.dtype.names}\")\n",
    "# print(f\"{X_train_forest[0]}\")\n",
    "\n",
    "y_train_imgs = glob.glob(os.path.join(forest_dir, \"train_path/*.png\"))\n",
    "y_imgs_train = []\n",
    "y_labels_train_forest = []\n",
    "for img_path in y_train_imgs:\n",
    "    img = io.imread(img_path, as_gray=True)\n",
    "    y_imgs_train.append(img)\n",
    "    img_name = img_path.split('/')[-1]\n",
    "    img_name = img_name.split('.')[0]\n",
    "    y_labels_train_forest.append(img_name)\n",
    "print(\"y_train_forest\")\n",
    "print(f\"# of images: {len(y_imgs_train)}\")\n",
    "y_train_forest = np.array(y_imgs_train, dtype='float32')\n",
    "y_train_forest/=255\n",
    "print(f\"{y_train_forest.ndim}\")\n",
    "print(f\"{y_train_forest.shape}\")\n",
    "# print(f\"{y_train_forest.dtype.names}\")\n",
    "# print(f\"{y_train_forest[0]}\")"
   ]
  },
  {
   "cell_type": "markdown",
   "metadata": {},
   "source": [
    "### Validation Data"
   ]
  },
  {
   "cell_type": "code",
   "execution_count": null,
   "metadata": {},
   "outputs": [],
   "source": [
    "x_valid_imgs = glob.glob(os.path.join(forest_dir, \"validation/*.png\"))\n",
    "x_imgs_valid = []\n",
    "x_labels_valid_forest = []\n",
    "for img_path in x_valid_imgs:\n",
    "    img = io.imread(img_path, as_gray=True)\n",
    "    x_imgs_valid.append(img)\n",
    "    img_name = img_path.split('/')[-1]\n",
    "    img_name = img_name.split('.')[0]\n",
    "    x_labels_valid_forest.append(img_name)\n",
    "print(\"X_valid_forest\")\n",
    "print(f\"# of images: {len(x_imgs_valid)}\")\n",
    "X_valid_forest = np.array(x_imgs_valid, dtype='float32')\n",
    "X_valid_forest/=255\n",
    "print(f\"{X_valid_forest.ndim}\")\n",
    "print(f\"{X_valid_forest.shape}\")\n",
    "# print(f\"{X_valid_forest.dtype.names}\")\n",
    "# print(f\"{X_valid_forest[0]}\")\n",
    "\n",
    "y_valid_imgs = glob.glob(os.path.join(forest_dir, \"validation_path/*.png\"))\n",
    "y_imgs_valid = []\n",
    "y_labels_valid_forest = []\n",
    "for img_path in y_valid_imgs:\n",
    "    img = io.imread(img_path, as_gray=True)\n",
    "    y_imgs_valid.append(img)\n",
    "    img_name = img_path.split('/')[-1]\n",
    "    img_name = img_name.split('.')[0]\n",
    "    y_labels_valid_forest.append(img_name)\n",
    "print(\"y_valid_forest\")\n",
    "print(f\"# of images: {len(y_imgs_valid)}\")\n",
    "y_valid_forest = np.array(y_imgs_valid, dtype='float32')\n",
    "y_valid_forest/=255\n",
    "print(f\"{y_valid_forest.ndim}\")\n",
    "print(f\"{y_valid_forest.shape}\")\n",
    "# print(f\"{y_valid_forest.dtype.names}\")\n",
    "# print(f\"{y_valid_forest[0]}\")"
   ]
  },
  {
   "cell_type": "markdown",
   "metadata": {},
   "source": [
    "### Test Data"
   ]
  },
  {
   "cell_type": "code",
   "execution_count": null,
   "metadata": {},
   "outputs": [],
   "source": [
    "x_test_imgs = glob.glob(os.path.join(forest_dir, \"test/*.png\"))\n",
    "imgs_test = []\n",
    "x_labels_test_forest = []\n",
    "for img_path in x_test_imgs:\n",
    "    img = io.imread(img_path, as_gray=True)\n",
    "    imgs_test.append(img)\n",
    "    img_name = img_path.split('/')[-1]\n",
    "    img_name = img_name.split('.')[0]\n",
    "    x_labels_test_forest.append(img_name)\n",
    "print(\"X_test_forest\")\n",
    "print(f\"# of images: {len(imgs_test)}\")\n",
    "X_test_forest = np.array(imgs_test, dtype='float32')\n",
    "X_test_forest/=255\n",
    "# X_test = np.array(imgs_test)\n",
    "print(f\"{X_test_forest.ndim}\")\n",
    "print(f\"{X_test_forest.shape}\")\n",
    "# print(f\"{X_test_forest.dtype.names}\")\n",
    "# print(f\"{X_test_forest[0]}\")\n",
    "\n",
    "y_test_imgs = glob.glob(os.path.join(forest_dir, \"test_path/*.png\"))\n",
    "y_imgs_test = []\n",
    "y_labels_test_forest = []\n",
    "for img_path in y_test_imgs:\n",
    "    img = io.imread(img_path, as_gray=True)\n",
    "    y_imgs_test.append(img)\n",
    "    img_name = img_path.split('/')[-1]\n",
    "    img_name = img_name.split('.')[0]\n",
    "    y_labels_test_forest.append(img_name)\n",
    "print(\"y_test_forest\")\n",
    "print(f\"# of images: {len(y_imgs_test)}\")\n",
    "y_test_forest = np.array(y_imgs_test, dtype='float32')\n",
    "y_test_forest/=255\n",
    "print(f\"{y_test_forest.ndim}\")\n",
    "print(f\"{y_test_forest.shape}\")\n",
    "# print(f\"{y_test_forest.dtype.names}\")\n",
    "# print(f\"{y_test_forest[0]}\")"
   ]
  },
  {
   "cell_type": "code",
   "execution_count": null,
   "metadata": {},
   "outputs": [],
   "source": [
    "# input_shape = (32, 32, 1)\n",
    "img_rows, img_cols = 32, 32\n",
    "if K.image_data_format() == 'channels_first':\n",
    "    X_train_forest = X_train_forest.reshape(X_train_forest.shape[0], 1, img_rows, img_cols)\n",
    "    X_valid_forest = X_valid_forest.reshape(X_valid_forest.shape[0], 1, img_rows, img_cols)\n",
    "    X_test_forest = X_test_forest.reshape(X_test_forest.shape[0], 1, img_rows, img_cols)\n",
    "    y_train_forest = y_train_forest.reshape(y_train_forest.shape[0], 1, img_rows, img_cols)\n",
    "    y_valid_forest = y_valid_forest.reshape(y_valid_forest.shape[0], 1, img_rows, img_cols)\n",
    "    y_test_forest = y_test_forest.reshape(y_test_forest.shape[0], 1, img_rows, img_cols)\n",
    "    input_shape = (1, img_rows, img_cols)\n",
    "else:\n",
    "    X_train_forest = X_train_forest.reshape(X_train_forest.shape[0], img_rows, img_cols, 1)\n",
    "    X_valid_forest = X_valid_forest.reshape(X_valid_forest.shape[0], img_rows, img_cols, 1)\n",
    "    X_test_forest = X_test_forest.reshape(X_test_forest.shape[0], img_rows, img_cols, 1)\n",
    "    y_train_forest = y_train_forest.reshape(y_train_forest.shape[0], img_rows, img_cols, 1)\n",
    "    y_valid_forest = y_valid_forest.reshape(y_valid_forest.shape[0], img_rows, img_cols, 1)\n",
    "    y_test_forest = y_test_forest.reshape(y_test_forest.shape[0], img_rows, img_cols, 1)\n",
    "    input_shape = (img_rows, img_cols, 1)"
   ]
  },
  {
   "cell_type": "markdown",
   "metadata": {},
   "source": [
    "## Compile Model"
   ]
  },
  {
   "cell_type": "code",
   "execution_count": null,
   "metadata": {},
   "outputs": [],
   "source": [
    "import keras\n",
    "# Free up RAM in case the model definition cells were run multiple times\n",
    "keras.backend.clear_session()\n",
    "\n",
    "# Build model\n",
    "model = path_planning_model()\n",
    "model.summary()\n",
    "\n",
    "adam = keras.optimizers.Adam(lr=0.001, beta_1=0.9, beta_2=0.999, epsilon=1e-08, decay=0.0)\n",
    "\n",
    "model.compile ( optimizer=adam,\n",
    "                loss='mse',\n",
    "                metrics=['accuracy'])\n",
    "\n",
    "batch_size = 128\n",
    "num_classes = 1\n",
    "# epochs = 12\n",
    "epochs = 100"
   ]
  },
  {
   "cell_type": "markdown",
   "metadata": {},
   "source": [
    "## Maze Model\n"
   ]
  },
  {
   "cell_type": "code",
   "execution_count": null,
   "metadata": {},
   "outputs": [],
   "source": [
    "# Train Model for Mazes\n",
    "start_time = time.time()\n",
    "\n",
    "model.fit(X_train_mazes, y_train_mazes,\n",
    "        batch_size=batch_size,\n",
    "        epochs=epochs,\n",
    "        verbose=2,\n",
    "        validation_data=(X_valid_mazes, y_valid_mazes))\n",
    "score = model.evaluate(X_test_mazes, y_test_mazes, verbose=0)\n",
    "print('Test loss: {}'.format(score[0]))\n",
    "print('Test accuracy: {}'.format(score[1]))\n",
    "\n",
    "elapsed_time = time.time() - start_time\n",
    "print(\"Elapsed time: {}\".format(hms_string(elapsed_time)))\n",
    "\n",
    "model.save(\"path-planning-mazes.h5\")"
   ]
  },
  {
   "cell_type": "code",
   "execution_count": null,
   "metadata": {},
   "outputs": [],
   "source": [
    "# Prediction on maze test values\n",
    "pred_mazes = model.predict(X_test_mazes)\n",
    "print(\"Predict image\")\n",
    "print(pred_mazes[0])\n",
    "plt.imshow(pred_mazes[0], cmap='gray', interpolation='nearest')\n"
   ]
  },
  {
   "cell_type": "code",
   "execution_count": null,
   "metadata": {},
   "outputs": [],
   "source": [
    "# Save prediction images\n",
    "output_dir = os.path.join(root_dir,\"output\")\n",
    "mazes_output_dir = os.path.join(output_dir,\"mazes\")\n",
    "for i,p in enumerate(pred_mazes):\n",
    "    img_name = x_labels_test_mazes[i]\n",
    "    # print(img_name)\n",
    "    io.imsave(os.path.join(mazes_output_dir,img_name+\".png\"), p)\n"
   ]
  },
  {
   "cell_type": "code",
   "execution_count": null,
   "metadata": {},
   "outputs": [],
   "source": [
    "print(y_labels_test_mazes[0])\n",
    "plt.imshow(X_test_mazes[0], cmap='gray', interpolation='nearest')"
   ]
  },
  {
   "cell_type": "code",
   "execution_count": null,
   "metadata": {},
   "outputs": [],
   "source": [
    "plt.imshow(y_test_mazes[0], cmap='gray', interpolation='nearest')"
   ]
  },
  {
   "cell_type": "code",
   "execution_count": null,
   "metadata": {},
   "outputs": [],
   "source": [
    "chart_regression(pred_mazes,y_test_mazes)"
   ]
  },
  {
   "cell_type": "markdown",
   "metadata": {},
   "source": [
    "## Alternaing Gaps Model"
   ]
  },
  {
   "cell_type": "code",
   "execution_count": null,
   "metadata": {},
   "outputs": [],
   "source": [
    "# Train Model for Alternating Gaps\n",
    "start_time = time.time()\n",
    "\n",
    "model.fit(X_train_alternating_gaps, y_train_alternating_gaps,\n",
    "        batch_size=batch_size,\n",
    "        epochs=epochs,\n",
    "        verbose=2,\n",
    "        validation_data=(X_valid_alternating_gaps, y_valid_alternating_gaps))\n",
    "score = model.evaluate(X_test_alternating_gaps, y_test_alternating_gaps, verbose=0)\n",
    "print('Test loss: {}'.format(score[0]))\n",
    "print('Test accuracy: {}'.format(score[1]))\n",
    "\n",
    "elapsed_time = time.time() - start_time\n",
    "print(\"Elapsed time: {}\".format(hms_string(elapsed_time)))\n",
    "\n",
    "model.save(\"path-planning-alternating_gaps.h5\")"
   ]
  },
  {
   "cell_type": "code",
   "execution_count": null,
   "metadata": {},
   "outputs": [],
   "source": [
    "# Prediction on maze test values\n",
    "pred_alternating_gaps = model.predict(X_test_alternating_gaps)\n",
    "print(\"Predict image\")\n",
    "print(pred_alternating_gaps[0])\n",
    "plt.imshow(pred_alternating_gaps[0], cmap='gray', interpolation='nearest')\n"
   ]
  },
  {
   "cell_type": "code",
   "execution_count": null,
   "metadata": {},
   "outputs": [],
   "source": [
    "# Save prediction images\n",
    "output_dir = os.path.join(root_dir,\"output\")\n",
    "alternating_gaps_output_dir = os.path.join(output_dir,\"alternating_gaps\")\n",
    "for i,p in enumerate(pred_alternating_gaps):\n",
    "    img_name = x_labels_test_alternating_gaps[i]\n",
    "    # print(img_name)\n",
    "    io.imsave(os.path.join(alternating_gaps_output_dir,img_name+\".png\"), p)\n"
   ]
  },
  {
   "cell_type": "code",
   "execution_count": null,
   "metadata": {},
   "outputs": [],
   "source": [
    "print(y_labels_test_alternating_gaps[0])\n",
    "plt.imshow(X_test_alternating_gaps[0], cmap='gray', interpolation='nearest')"
   ]
  },
  {
   "cell_type": "code",
   "execution_count": null,
   "metadata": {},
   "outputs": [],
   "source": [
    "plt.imshow(y_test_alternating_gaps[0], cmap='gray', interpolation='nearest')"
   ]
  },
  {
   "cell_type": "code",
   "execution_count": null,
   "metadata": {},
   "outputs": [],
   "source": [
    "chart_regression(pred_alternating_gaps,y_test_alternating_gaps)"
   ]
  },
  {
   "cell_type": "markdown",
   "metadata": {},
   "source": [
    "## Bugtrap Forest Model"
   ]
  },
  {
   "cell_type": "code",
   "execution_count": null,
   "metadata": {},
   "outputs": [],
   "source": [
    "# Train Model for Bugtrap Forest\n",
    "start_time = time.time()\n",
    "\n",
    "model.fit(X_train_bugtrap_forest, y_train_bugtrap_forest,\n",
    "        batch_size=batch_size,\n",
    "        epochs=epochs,\n",
    "        verbose=2,\n",
    "        validation_data=(X_valid_bugtrap_forest, y_valid_bugtrap_forest))\n",
    "score = model.evaluate(X_test_bugtrap_forest, y_test_bugtrap_forest, verbose=0)\n",
    "print('Test loss: {}'.format(score[0]))\n",
    "print('Test accuracy: {}'.format(score[1]))\n",
    "\n",
    "elapsed_time = time.time() - start_time\n",
    "print(\"Elapsed time: {}\".format(hms_string(elapsed_time)))\n",
    "\n",
    "model.save(\"path-planning-bugtrap_forest.h5\")"
   ]
  },
  {
   "cell_type": "code",
   "execution_count": null,
   "metadata": {},
   "outputs": [],
   "source": [
    "# Prediction on maze test values\n",
    "pred_bugtrap_forest = model.predict(X_test_bugtrap_forest)\n",
    "print(\"Predict image\")\n",
    "print(pred_bugtrap_forest[0])\n",
    "plt.imshow(pred_bugtrap_forest[0], cmap='gray', interpolation='nearest')\n"
   ]
  },
  {
   "cell_type": "code",
   "execution_count": null,
   "metadata": {},
   "outputs": [],
   "source": [
    "# Save prediction images\n",
    "output_dir = os.path.join(root_dir,\"output\")\n",
    "bugtrap_forest_output_dir = os.path.join(output_dir,\"bugtrap_forest\")\n",
    "for i,p in enumerate(pred_bugtrap_forest):\n",
    "    img_name = x_labels_test_bugtrap_forest[i]\n",
    "    # print(img_name)\n",
    "    io.imsave(os.path.join(bugtrap_forest_output_dir,img_name+\".png\"), p)\n"
   ]
  },
  {
   "cell_type": "code",
   "execution_count": null,
   "metadata": {},
   "outputs": [],
   "source": [
    "print(y_labels_test_bugtrap_forest[0])\n",
    "plt.imshow(X_test_bugtrap_forest[0], cmap='gray', interpolation='nearest')"
   ]
  },
  {
   "cell_type": "code",
   "execution_count": null,
   "metadata": {},
   "outputs": [],
   "source": [
    "plt.imshow(y_test_bugtrap_forest[0], cmap='gray', interpolation='nearest')"
   ]
  },
  {
   "cell_type": "code",
   "execution_count": null,
   "metadata": {},
   "outputs": [],
   "source": [
    "chart_regression(pred_bugtrap_forest,y_test_bugtrap_forest)"
   ]
  },
  {
   "cell_type": "markdown",
   "metadata": {},
   "source": [
    "## Multiple Bugtraps Model"
   ]
  },
  {
   "cell_type": "code",
   "execution_count": null,
   "metadata": {},
   "outputs": [],
   "source": [
    "# Train Model for Mazes\n",
    "start_time = time.time()\n",
    "\n",
    "model.fit(X_train_multiple_bugtraps, y_train_multiple_bugtraps,\n",
    "        batch_size=batch_size,\n",
    "        epochs=epochs,\n",
    "        verbose=2,\n",
    "        validation_data=(X_valid_multiple_bugtraps, y_valid_multiple_bugtraps))\n",
    "score = model.evaluate(X_test_multiple_bugtraps, y_test_multiple_bugtraps, verbose=0)\n",
    "print('Test loss: {}'.format(score[0]))\n",
    "print('Test accuracy: {}'.format(score[1]))\n",
    "\n",
    "elapsed_time = time.time() - start_time\n",
    "print(\"Elapsed time: {}\".format(hms_string(elapsed_time)))\n",
    "\n",
    "model.save(\"path-planning-multiple_bugtraps.h5\")"
   ]
  },
  {
   "cell_type": "code",
   "execution_count": null,
   "metadata": {},
   "outputs": [],
   "source": [
    "# Prediction on maze test values\n",
    "pred_multiple_bugtraps = model.predict(X_test_multiple_bugtraps)\n",
    "print(\"Predict image\")\n",
    "print(pred_multiple_bugtraps[0])\n",
    "plt.imshow(pred_multiple_bugtraps[0], cmap='gray', interpolation='nearest')\n"
   ]
  },
  {
   "cell_type": "code",
   "execution_count": null,
   "metadata": {},
   "outputs": [],
   "source": [
    "# Save prediction images\n",
    "output_dir = os.path.join(root_dir,\"output\")\n",
    "multiple_bugtraps_output_dir = os.path.join(output_dir,\"multiple_bugtraps\")\n",
    "for i,p in enumerate(pred_multiple_bugtraps):\n",
    "    img_name = x_labels_test_multiple_bugtraps[i]\n",
    "    # print(img_name)\n",
    "    io.imsave(os.path.join(multiple_bugtraps_output_dir,img_name+\".png\"), p)\n"
   ]
  },
  {
   "cell_type": "code",
   "execution_count": null,
   "metadata": {},
   "outputs": [],
   "source": [
    "print(y_labels_test_multiple_bugtraps[0])\n",
    "plt.imshow(X_test_multiple_bugtraps[0], cmap='gray', interpolation='nearest')"
   ]
  },
  {
   "cell_type": "code",
   "execution_count": null,
   "metadata": {},
   "outputs": [],
   "source": [
    "plt.imshow(y_test_multiple_bugtraps[0], cmap='gray', interpolation='nearest')"
   ]
  },
  {
   "cell_type": "code",
   "execution_count": null,
   "metadata": {},
   "outputs": [],
   "source": [
    "chart_regression(pred_multiple_bugtraps,y_test_multiple_bugtraps)"
   ]
  },
  {
   "cell_type": "markdown",
   "metadata": {},
   "source": [
    "## Shifting Gaps Model"
   ]
  },
  {
   "cell_type": "code",
   "execution_count": null,
   "metadata": {},
   "outputs": [],
   "source": [
    "# Train Model for Mazes\n",
    "start_time = time.time()\n",
    "\n",
    "model.fit(X_train_shifting_gaps, y_train_shifting_gaps,\n",
    "        batch_size=batch_size,\n",
    "        epochs=epochs,\n",
    "        verbose=2,\n",
    "        validation_data=(X_valid_shifting_gaps, y_valid_shifting_gaps))\n",
    "score = model.evaluate(X_test_shifting_gaps, y_test_shifting_gaps, verbose=0)\n",
    "print('Test loss: {}'.format(score[0]))\n",
    "print('Test accuracy: {}'.format(score[1]))\n",
    "\n",
    "elapsed_time = time.time() - start_time\n",
    "print(\"Elapsed time: {}\".format(hms_string(elapsed_time)))\n",
    "\n",
    "model.save(\"path-planning-shifting_gaps.h5\")"
   ]
  },
  {
   "cell_type": "code",
   "execution_count": null,
   "metadata": {},
   "outputs": [],
   "source": [
    "# Prediction on maze test values\n",
    "pred_shifting_gaps = model.predict(X_test_shifting_gaps)\n",
    "print(\"Predict image\")\n",
    "print(pred_shifting_gaps[0])\n",
    "plt.imshow(pred_shifting_gaps[0], cmap='gray', interpolation='nearest')\n"
   ]
  },
  {
   "cell_type": "code",
   "execution_count": null,
   "metadata": {},
   "outputs": [],
   "source": [
    "# Save prediction images\n",
    "output_dir = os.path.join(root_dir,\"output\")\n",
    "shifting_gaps_output_dir = os.path.join(output_dir,\"shifting_gaps\")\n",
    "for i,p in enumerate(pred_shifting_gaps):\n",
    "    img_name = x_labels_test_shifting_gaps[i]\n",
    "    # print(img_name)\n",
    "    io.imsave(os.path.join(shifting_gaps_output_dir,img_name+\".png\"), p)\n"
   ]
  },
  {
   "cell_type": "code",
   "execution_count": null,
   "metadata": {},
   "outputs": [],
   "source": [
    "print(y_labels_test_shifting_gaps[0])\n",
    "plt.imshow(X_test_shifting_gaps[0], cmap='gray', interpolation='nearest')"
   ]
  },
  {
   "cell_type": "code",
   "execution_count": null,
   "metadata": {},
   "outputs": [],
   "source": [
    "plt.imshow(y_test_shifting_gaps[0], cmap='gray', interpolation='nearest')"
   ]
  },
  {
   "cell_type": "code",
   "execution_count": null,
   "metadata": {},
   "outputs": [],
   "source": [
    "chart_regression(pred_shifting_gaps,y_test_shifting_gaps)"
   ]
  },
  {
   "cell_type": "markdown",
   "metadata": {},
   "source": [
    "## Forest Model"
   ]
  },
  {
   "cell_type": "code",
   "execution_count": null,
   "metadata": {},
   "outputs": [],
   "source": [
    "# Train Model for Mazes\n",
    "start_time = time.time()\n",
    "\n",
    "model.fit(X_train_forest, y_train_forest,\n",
    "        batch_size=batch_size,\n",
    "        epochs=epochs,\n",
    "        verbose=2,\n",
    "        validation_data=(X_valid_forest, y_valid_forest))\n",
    "score = model.evaluate(X_test_forest, y_test_forest, verbose=0)\n",
    "print('Test loss: {}'.format(score[0]))\n",
    "print('Test accuracy: {}'.format(score[1]))\n",
    "\n",
    "elapsed_time = time.time() - start_time\n",
    "print(\"Elapsed time: {}\".format(hms_string(elapsed_time)))\n",
    "\n",
    "model.save(\"path-planning-forest.h5\")"
   ]
  },
  {
   "cell_type": "code",
   "execution_count": null,
   "metadata": {},
   "outputs": [],
   "source": [
    "# Prediction on maze test values\n",
    "pred_forest = model.predict(X_test_forest)\n",
    "print(\"Predict image\")\n",
    "print(pred_forest[0])\n",
    "plt.imshow(pred_forest[0], cmap='gray', interpolation='nearest')\n"
   ]
  },
  {
   "cell_type": "code",
   "execution_count": null,
   "metadata": {},
   "outputs": [],
   "source": [
    "# Save prediction images\n",
    "output_dir = os.path.join(root_dir,\"output\")\n",
    "forest_output_dir = os.path.join(output_dir,\"forest\")\n",
    "for i,p in enumerate(pred_forest):\n",
    "    img_name = x_labels_test_forest[i]\n",
    "    # print(img_name)\n",
    "    io.imsave(os.path.join(forest_output_dir,img_name+\".png\"), p)\n"
   ]
  },
  {
   "cell_type": "code",
   "execution_count": null,
   "metadata": {},
   "outputs": [],
   "source": [
    "print(y_labels_test_forest[0])\n",
    "plt.imshow(X_test_forest[0], cmap='gray', interpolation='nearest')"
   ]
  },
  {
   "cell_type": "code",
   "execution_count": null,
   "metadata": {},
   "outputs": [],
   "source": [
    "plt.imshow(y_test_forest[0], cmap='gray', interpolation='nearest')"
   ]
  },
  {
   "cell_type": "code",
   "execution_count": null,
   "metadata": {},
   "outputs": [],
   "source": [
    "chart_regression(pred_forest,y_test_forest)"
   ]
  }
 ],
 "metadata": {
  "interpreter": {
   "hash": "15348a6e2b765608a4bf5728b2035b05d83a9f451d85470af88e6d086c8fa9a2"
  },
  "kernelspec": {
   "display_name": "Python 3.6.13 ('AI4AVenv')",
   "language": "python",
   "name": "python3"
  },
  "language_info": {
   "codemirror_mode": {
    "name": "ipython",
    "version": 3
   },
   "file_extension": ".py",
   "mimetype": "text/x-python",
   "name": "python",
   "nbconvert_exporter": "python",
   "pygments_lexer": "ipython3",
   "version": "3.6.13"
  },
  "orig_nbformat": 4
 },
 "nbformat": 4,
 "nbformat_minor": 2
}
